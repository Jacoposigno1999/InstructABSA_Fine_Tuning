{
 "cells": [
  {
   "cell_type": "code",
   "execution_count": 59,
   "metadata": {},
   "outputs": [],
   "source": [
    "import pandas as pd\n",
    "import ast\n",
    "\n",
    "df = pd.read_csv(r'C:\\Users\\jacop\\Desktop\\Lavori\\InstructABSA_Fine_Tuning\\Dataset\\Data.csv')\n",
    "#df = df[['review_full','aspects']]\n",
    "#df['aspects'] = df['aspects'].apply(lambda x: [x])\n",
    "df = df[1:]\n",
    "type(df['ABSA_results'].iloc[0])\n",
    "\n",
    "\n",
    "\n",
    "df['ABSA_results'] = df['ABSA_results'].apply(ast.literal_eval)\n"
   ]
  },
  {
   "cell_type": "code",
   "execution_count": 60,
   "metadata": {},
   "outputs": [
    {
     "data": {
      "text/plain": [
       "[{'term': 'food', 'polarity': 'positive'},\n",
       " {'term': 'desserts', 'polarity': 'positive'},\n",
       " {'term': 'location', 'polarity': 'positive'},\n",
       " {'term': 'price', 'polarity': 'positive'},\n",
       " {'term': 'milanesa', 'polarity': 'None'},\n",
       " {'term': 'uruguayan food', 'polarity': 'None'},\n",
       " {'term': 'tapas', 'polarity': 'negative'}]"
      ]
     },
     "execution_count": 60,
     "metadata": {},
     "output_type": "execute_result"
    }
   ],
   "source": [
    "df['ABSA_results'].iloc[0]"
   ]
  },
  {
   "cell_type": "code",
   "execution_count": 52,
   "metadata": {},
   "outputs": [
    {
     "data": {
      "application/vnd.microsoft.datawrangler.viewer.v0+json": {
       "columns": [
        {
         "name": "index",
         "rawType": "int64",
         "type": "integer"
        },
        {
         "name": "sentenceId",
         "rawType": "int64",
         "type": "integer"
        },
        {
         "name": "raw_text",
         "rawType": "object",
         "type": "string"
        },
        {
         "name": "aspectTerms",
         "rawType": "object",
         "type": "string"
        },
        {
         "name": "aspectCategories",
         "rawType": "object",
         "type": "string"
        }
       ],
       "ref": "c7d3c25f-7c37-4133-90a0-d4193111bd02",
       "rows": [
        [
         "0",
         "3121",
         "But the staff was so horrible to us.",
         "[{'term': 'staff', 'polarity': 'negative'}]",
         "[{'category': 'service', 'polarity': 'negative'}]"
        ],
        [
         "1",
         "2777",
         "To be completely fair, the only redeeming factor was the food, which was above average, but couldn't make up for all the other deficiencies of Teodora.",
         "[{'term': 'food', 'polarity': 'positive'}]",
         "[{'category': 'food', 'polarity': 'positive'}, {'category': 'anecdotes/miscellaneous', 'polarity': 'negative'}]"
        ],
        [
         "2",
         "1634",
         "The food is uniformly exceptional, with a very capable kitchen which will proudly whip up whatever you feel like eating, whether it's on the menu or not.",
         "[{'term': 'food', 'polarity': 'positive'}, {'term': 'kitchen', 'polarity': 'positive'}, {'term': 'menu', 'polarity': 'neutral'}]",
         "[{'category': 'food', 'polarity': 'positive'}]"
        ],
        [
         "3",
         "2534",
         "Where Gabriela personaly greets you and recommends you what to eat.",
         "[{'term': 'noaspectterm', 'polarity': 'none'}]",
         "[{'category': 'service', 'polarity': 'positive'}]"
        ],
        [
         "4",
         "583",
         "For those that go once and don't enjoy it, all I can say is that they just don't get it.",
         "[{'term': 'noaspectterm', 'polarity': 'none'}]",
         "[{'category': 'anecdotes/miscellaneous', 'polarity': 'positive'}]"
        ],
        [
         "5",
         "2846",
         "Not only was the food outstanding, but the little 'perks' were great.",
         "[{'term': 'food', 'polarity': 'positive'}, {'term': 'perks', 'polarity': 'positive'}]",
         "[{'category': 'food', 'polarity': 'positive'}, {'category': 'service', 'polarity': 'positive'}]"
        ],
        [
         "6",
         "1571",
         "It is very overpriced and not very tasty.",
         "[{'term': 'noaspectterm', 'polarity': 'none'}]",
         "[{'category': 'food', 'polarity': 'negative'}, {'category': 'price', 'polarity': 'negative'}]"
        ],
        [
         "7",
         "1458",
         "Our agreed favorite is the orrechiete with sausage and chicken (usually the waiters are kind enough to split the dish in half so you get to sample both meats).",
         "[{'term': 'orrechiete with sausage and chicken', 'polarity': 'positive'}, {'term': 'waiters', 'polarity': 'positive'}, {'term': 'meats', 'polarity': 'neutral'}, {'term': 'dish', 'polarity': 'neutral'}]",
         "[{'category': 'food', 'polarity': 'positive'}, {'category': 'service', 'polarity': 'positive'}]"
        ],
        [
         "8",
         "3161",
         "The Bagels have an outstanding taste with a terrific texture, both chewy yet not gummy.",
         "[{'term': 'Bagels', 'polarity': 'positive'}]",
         "[{'category': 'food', 'polarity': 'positive'}]"
        ],
        [
         "9",
         "2391",
         "Nevertheless the food itself is pretty good.",
         "[{'term': 'food', 'polarity': 'positive'}]",
         "[{'category': 'food', 'polarity': 'positive'}]"
        ],
        [
         "10",
         "296",
         "They did not have mayonnaise, forgot our toast, left out ingredients (ie cheese in an omelet), below hot temperatures and the bacon was so over cooked it crumbled on the plate when you touched it.",
         "[{'term': 'toast', 'polarity': 'negative'}, {'term': 'mayonnaise', 'polarity': 'negative'}, {'term': 'bacon', 'polarity': 'negative'}, {'term': 'cheese', 'polarity': 'neutral'}, {'term': 'ingredients', 'polarity': 'negative'}, {'term': 'plate', 'polarity': 'neutral'}, {'term': 'omelet', 'polarity': 'neutral'}]",
         "[{'category': 'food', 'polarity': 'negative'}]"
        ],
        [
         "11",
         "1793",
         "It took half an hour to get our check, which was perfect since we could sit, have drinks and talk!",
         "[{'term': 'drinks', 'polarity': 'neutral'}, {'term': 'check', 'polarity': 'neutral'}]",
         "[{'category': 'service', 'polarity': 'conflict'}]"
        ],
        [
         "12",
         "2200",
         "The design and atmosphere is just as good.",
         "[{'term': 'design', 'polarity': 'positive'}, {'term': 'atmosphere', 'polarity': 'positive'}]",
         "[{'category': 'ambience', 'polarity': 'positive'}]"
        ],
        [
         "13",
         "3195",
         "He has visited Thailand and is quite expert on the cuisine.",
         "[{'term': 'cuisine', 'polarity': 'positive'}]",
         "[{'category': 'food', 'polarity': 'positive'}]"
        ],
        [
         "14",
         "3119",
         "I would definitely recommend Mary's and am making it one of my regular neighborhood haunts.",
         "[{'term': 'noaspectterm', 'polarity': 'none'}]",
         "[{'category': 'anecdotes/miscellaneous', 'polarity': 'positive'}]"
        ],
        [
         "15",
         "3359",
         "The pizza is the best if you like thin crusted pizza.",
         "[{'term': 'pizza', 'polarity': 'positive'}, {'term': 'thin crusted pizza', 'polarity': 'neutral'}]",
         "[{'category': 'food', 'polarity': 'positive'}]"
        ],
        [
         "16",
         "70",
         "My Girlfriend and I stumbled onto this hopping place the other night and had a great time!",
         "[{'term': 'noaspectterm', 'polarity': 'none'}]",
         "[{'category': 'anecdotes/miscellaneous', 'polarity': 'positive'}]"
        ],
        [
         "17",
         "1829",
         "He can't help, they're bought up so fast.",
         "[{'term': 'noaspectterm', 'polarity': 'none'}]",
         "[{'category': 'anecdotes/miscellaneous', 'polarity': 'neutral'}]"
        ],
        [
         "18",
         "2935",
         "Secondly, on this night the place was overwhelmed by upper east side ladies perfume.",
         "[{'term': 'noaspectterm', 'polarity': 'none'}]",
         "[{'category': 'ambience', 'polarity': 'negative'}]"
        ],
        [
         "19",
         "1805",
         "i have eaten here a handful of times, for no reason besides sheer convenience.",
         "[{'term': 'noaspectterm', 'polarity': 'none'}]",
         "[{'category': 'anecdotes/miscellaneous', 'polarity': 'neutral'}]"
        ],
        [
         "20",
         "2559",
         "Obviously run by folks who know a pie.",
         "[{'term': 'noaspectterm', 'polarity': 'none'}]",
         "[{'category': 'service', 'polarity': 'positive'}]"
        ],
        [
         "21",
         "716",
         "We were very disappointed.",
         "[{'term': 'noaspectterm', 'polarity': 'none'}]",
         "[{'category': 'anecdotes/miscellaneous', 'polarity': 'negative'}]"
        ],
        [
         "22",
         "2464",
         "IT IS DEFINITELY SPECIAL AND AFFORDABLE.",
         "[{'term': 'noaspectterm', 'polarity': 'none'}]",
         "[{'category': 'anecdotes/miscellaneous', 'polarity': 'positive'}, {'category': 'price', 'polarity': 'positive'}]"
        ],
        [
         "23",
         "385",
         "I really liked this place.",
         "[{'term': 'noaspectterm', 'polarity': 'none'}]",
         "[{'category': 'anecdotes/miscellaneous', 'polarity': 'positive'}]"
        ],
        [
         "24",
         "1350",
         "I will be going back very soon.",
         "[{'term': 'noaspectterm', 'polarity': 'none'}]",
         "[{'category': 'anecdotes/miscellaneous', 'polarity': 'positive'}]"
        ],
        [
         "25",
         "3534",
         "All the money went into the interior decoration, none of it went to the chefs.",
         "[{'term': 'interior decoration', 'polarity': 'positive'}, {'term': 'chefs', 'polarity': 'negative'}]",
         "[{'category': 'ambience', 'polarity': 'positive'}, {'category': 'food', 'polarity': 'negative'}]"
        ],
        [
         "26",
         "1407",
         "The seats are uncomfortable if you are sitting against the wall on wooden benches.",
         "[{'term': 'seats', 'polarity': 'negative'}]",
         "[{'category': 'ambience', 'polarity': 'negative'}]"
        ],
        [
         "27",
         "565",
         "I asked for seltzer with lime, no ice.",
         "[{'term': 'seltzer with lime', 'polarity': 'neutral'}]",
         "[{'category': 'food', 'polarity': 'neutral'}]"
        ],
        [
         "28",
         "387",
         "It was pretty inexpensive too.",
         "[{'term': 'noaspectterm', 'polarity': 'none'}]",
         "[{'category': 'price', 'polarity': 'positive'}]"
        ],
        [
         "29",
         "1314",
         "Will not be back.",
         "[{'term': 'noaspectterm', 'polarity': 'none'}]",
         "[{'category': 'anecdotes/miscellaneous', 'polarity': 'negative'}]"
        ],
        [
         "30",
         "675",
         "Don't go alone---even two people isn't enough for the whole experience, with pickles and a selection of meats and seafoods.",
         "[{'term': 'pickles', 'polarity': 'positive'}, {'term': 'selection of meats and seafoods', 'polarity': 'positive'}]",
         "[{'category': 'food', 'polarity': 'positive'}]"
        ],
        [
         "31",
         "2227",
         "My suggestion is to eat family style because you'll want to try the other dishes.",
         "[{'term': 'dishes', 'polarity': 'neutral'}, {'term': 'eat family style', 'polarity': 'positive'}]",
         "[{'category': 'food', 'polarity': 'neutral'}]"
        ],
        [
         "32",
         "3367",
         "Best of all is the warm vibe, the owner is super friendly and service is fast.",
         "[{'term': 'vibe', 'polarity': 'positive'}, {'term': 'owner', 'polarity': 'positive'}, {'term': 'service', 'polarity': 'positive'}]",
         "[{'category': 'service', 'polarity': 'positive'}, {'category': 'ambience', 'polarity': 'positive'}]"
        ],
        [
         "33",
         "1210",
         "This isn't a value joint.",
         "[{'term': 'noaspectterm', 'polarity': 'none'}]",
         "[{'category': 'price', 'polarity': 'negative'}]"
        ],
        [
         "34",
         "2191",
         "Faan's got a great concept but a little rough on the delivery.",
         "[{'term': 'delivery', 'polarity': 'negative'}]",
         "[{'category': 'anecdotes/miscellaneous', 'polarity': 'positive'}, {'category': 'service', 'polarity': 'negative'}]"
        ],
        [
         "35",
         "270",
         "From the incredible food, to the warm atmosphere, to the friendly service, this downtown neighborhood spot doesn't miss a beat.",
         "[{'term': 'food', 'polarity': 'positive'}, {'term': 'atmosphere', 'polarity': 'positive'}, {'term': 'service', 'polarity': 'positive'}]",
         "[{'category': 'food', 'polarity': 'positive'}, {'category': 'service', 'polarity': 'positive'}, {'category': 'ambience', 'polarity': 'positive'}]"
        ],
        [
         "36",
         "638",
         "Great food at REASONABLE prices, makes for an evening that can't be beat!",
         "[{'term': 'food', 'polarity': 'positive'}, {'term': 'prices', 'polarity': 'positive'}]",
         "[{'category': 'food', 'polarity': 'positive'}, {'category': 'price', 'polarity': 'positive'}]"
        ],
        [
         "37",
         "500",
         "Look foward to trying the Ruben upon returning.",
         "[{'term': 'noaspectterm', 'polarity': 'none'}]",
         "[{'category': 'anecdotes/miscellaneous', 'polarity': 'positive'}]"
        ],
        [
         "38",
         "1108",
         "The only other steakhouse that seems to hold a candle to Roth's is the Strip House.",
         "[{'term': 'noaspectterm', 'polarity': 'none'}]",
         "[{'category': 'anecdotes/miscellaneous', 'polarity': 'neutral'}]"
        ],
        [
         "39",
         "3294",
         "We usually go to the Chart House to celebrate a birthday or anniversary.",
         "[{'term': 'noaspectterm', 'polarity': 'none'}]",
         "[{'category': 'anecdotes/miscellaneous', 'polarity': 'neutral'}]"
        ],
        [
         "40",
         "388",
         "this little place has a cute interior decor and affordable city prices.",
         "[{'term': 'interior decor', 'polarity': 'positive'}, {'term': 'prices', 'polarity': 'positive'}]",
         "[{'category': 'ambience', 'polarity': 'positive'}, {'category': 'price', 'polarity': 'positive'}]"
        ],
        [
         "41",
         "3070",
         "You'll adore it.",
         "[{'term': 'noaspectterm', 'polarity': 'none'}]",
         "[{'category': 'anecdotes/miscellaneous', 'polarity': 'positive'}]"
        ],
        [
         "42",
         "3373",
         "Two words: Free wine.",
         "[{'term': 'wine', 'polarity': 'positive'}]",
         "[{'category': 'price', 'polarity': 'positive'}]"
        ],
        [
         "43",
         "425",
         "The price is reasonable although the service is poor.",
         "[{'term': 'price', 'polarity': 'positive'}, {'term': 'service', 'polarity': 'negative'}]",
         "[{'category': 'service', 'polarity': 'negative'}, {'category': 'price', 'polarity': 'positive'}]"
        ],
        [
         "44",
         "3192",
         "The quantity is also very good, you will come out satisfied.",
         "[{'term': 'quantity', 'polarity': 'positive'}]",
         "[{'category': 'food', 'polarity': 'positive'}]"
        ],
        [
         "45",
         "1098",
         "I have been to Roth's twice and both times were very disappointing.",
         "[{'term': 'noaspectterm', 'polarity': 'none'}]",
         "[{'category': 'anecdotes/miscellaneous', 'polarity': 'negative'}]"
        ],
        [
         "46",
         "2173",
         "Worth visiting the 1st Ave spot because it is the original store.",
         "[{'term': 'noaspectterm', 'polarity': 'none'}]",
         "[{'category': 'anecdotes/miscellaneous', 'polarity': 'positive'}]"
        ],
        [
         "47",
         "391",
         "I stumbled upon this second floor walk-up two Fridays ago when I was with two friends in town from L.A. Being serious sushi lovers, we sat at the sushi bar to be closer to the action.",
         "[{'term': 'sushi', 'polarity': 'neutral'}, {'term': 'sushi bar', 'polarity': 'neutral'}]",
         "[{'category': 'anecdotes/miscellaneous', 'polarity': 'neutral'}]"
        ],
        [
         "48",
         "263",
         "Raga's is a romantic, cozy restaurant.",
         "[{'term': 'noaspectterm', 'polarity': 'none'}]",
         "[{'category': 'ambience', 'polarity': 'positive'}]"
        ],
        [
         "49",
         "2384",
         "The fried rice is amazing here.",
         "[{'term': 'fried rice', 'polarity': 'positive'}]",
         "[{'category': 'food', 'polarity': 'positive'}]"
        ]
       ],
       "shape": {
        "columns": 4,
        "rows": 3041
       }
      },
      "text/html": [
       "<div>\n",
       "<style scoped>\n",
       "    .dataframe tbody tr th:only-of-type {\n",
       "        vertical-align: middle;\n",
       "    }\n",
       "\n",
       "    .dataframe tbody tr th {\n",
       "        vertical-align: top;\n",
       "    }\n",
       "\n",
       "    .dataframe thead th {\n",
       "        text-align: right;\n",
       "    }\n",
       "</style>\n",
       "<table border=\"1\" class=\"dataframe\">\n",
       "  <thead>\n",
       "    <tr style=\"text-align: right;\">\n",
       "      <th></th>\n",
       "      <th>sentenceId</th>\n",
       "      <th>raw_text</th>\n",
       "      <th>aspectTerms</th>\n",
       "      <th>aspectCategories</th>\n",
       "    </tr>\n",
       "  </thead>\n",
       "  <tbody>\n",
       "    <tr>\n",
       "      <th>0</th>\n",
       "      <td>3121</td>\n",
       "      <td>But the staff was so horrible to us.</td>\n",
       "      <td>[{'term': 'staff', 'polarity': 'negative'}]</td>\n",
       "      <td>[{'category': 'service', 'polarity': 'negative'}]</td>\n",
       "    </tr>\n",
       "    <tr>\n",
       "      <th>1</th>\n",
       "      <td>2777</td>\n",
       "      <td>To be completely fair, the only redeeming fact...</td>\n",
       "      <td>[{'term': 'food', 'polarity': 'positive'}]</td>\n",
       "      <td>[{'category': 'food', 'polarity': 'positive'},...</td>\n",
       "    </tr>\n",
       "    <tr>\n",
       "      <th>2</th>\n",
       "      <td>1634</td>\n",
       "      <td>The food is uniformly exceptional, with a very...</td>\n",
       "      <td>[{'term': 'food', 'polarity': 'positive'}, {'t...</td>\n",
       "      <td>[{'category': 'food', 'polarity': 'positive'}]</td>\n",
       "    </tr>\n",
       "    <tr>\n",
       "      <th>3</th>\n",
       "      <td>2534</td>\n",
       "      <td>Where Gabriela personaly greets you and recomm...</td>\n",
       "      <td>[{'term': 'noaspectterm', 'polarity': 'none'}]</td>\n",
       "      <td>[{'category': 'service', 'polarity': 'positive'}]</td>\n",
       "    </tr>\n",
       "    <tr>\n",
       "      <th>4</th>\n",
       "      <td>583</td>\n",
       "      <td>For those that go once and don't enjoy it, all...</td>\n",
       "      <td>[{'term': 'noaspectterm', 'polarity': 'none'}]</td>\n",
       "      <td>[{'category': 'anecdotes/miscellaneous', 'pola...</td>\n",
       "    </tr>\n",
       "    <tr>\n",
       "      <th>...</th>\n",
       "      <td>...</td>\n",
       "      <td>...</td>\n",
       "      <td>...</td>\n",
       "      <td>...</td>\n",
       "    </tr>\n",
       "    <tr>\n",
       "      <th>3036</th>\n",
       "      <td>1063</td>\n",
       "      <td>But that is highly forgivable.</td>\n",
       "      <td>[{'term': 'noaspectterm', 'polarity': 'none'}]</td>\n",
       "      <td>[{'category': 'anecdotes/miscellaneous', 'pola...</td>\n",
       "    </tr>\n",
       "    <tr>\n",
       "      <th>3037</th>\n",
       "      <td>777</td>\n",
       "      <td>From the appetizers we ate, the dim sum and ot...</td>\n",
       "      <td>[{'term': 'appetizers', 'polarity': 'positive'...</td>\n",
       "      <td>[{'category': 'food', 'polarity': 'positive'}]</td>\n",
       "    </tr>\n",
       "    <tr>\n",
       "      <th>3038</th>\n",
       "      <td>875</td>\n",
       "      <td>When we arrived at 6:00 PM, the restaurant was...</td>\n",
       "      <td>[{'term': 'noaspectterm', 'polarity': 'none'}]</td>\n",
       "      <td>[{'category': 'anecdotes/miscellaneous', 'pola...</td>\n",
       "    </tr>\n",
       "    <tr>\n",
       "      <th>3039</th>\n",
       "      <td>671</td>\n",
       "      <td>Each table has a pot of boiling water sunken i...</td>\n",
       "      <td>[{'term': 'table', 'polarity': 'neutral'}, {'t...</td>\n",
       "      <td>[{'category': 'food', 'polarity': 'neutral'}]</td>\n",
       "    </tr>\n",
       "    <tr>\n",
       "      <th>3040</th>\n",
       "      <td>617</td>\n",
       "      <td>I am going to the mid town location next.</td>\n",
       "      <td>[{'term': 'noaspectterm', 'polarity': 'none'}]</td>\n",
       "      <td>[{'category': 'anecdotes/miscellaneous', 'pola...</td>\n",
       "    </tr>\n",
       "  </tbody>\n",
       "</table>\n",
       "<p>3041 rows × 4 columns</p>\n",
       "</div>"
      ],
      "text/plain": [
       "      sentenceId                                           raw_text  \\\n",
       "0           3121               But the staff was so horrible to us.   \n",
       "1           2777  To be completely fair, the only redeeming fact...   \n",
       "2           1634  The food is uniformly exceptional, with a very...   \n",
       "3           2534  Where Gabriela personaly greets you and recomm...   \n",
       "4            583  For those that go once and don't enjoy it, all...   \n",
       "...          ...                                                ...   \n",
       "3036        1063                     But that is highly forgivable.   \n",
       "3037         777  From the appetizers we ate, the dim sum and ot...   \n",
       "3038         875  When we arrived at 6:00 PM, the restaurant was...   \n",
       "3039         671  Each table has a pot of boiling water sunken i...   \n",
       "3040         617          I am going to the mid town location next.   \n",
       "\n",
       "                                            aspectTerms  \\\n",
       "0           [{'term': 'staff', 'polarity': 'negative'}]   \n",
       "1            [{'term': 'food', 'polarity': 'positive'}]   \n",
       "2     [{'term': 'food', 'polarity': 'positive'}, {'t...   \n",
       "3        [{'term': 'noaspectterm', 'polarity': 'none'}]   \n",
       "4        [{'term': 'noaspectterm', 'polarity': 'none'}]   \n",
       "...                                                 ...   \n",
       "3036     [{'term': 'noaspectterm', 'polarity': 'none'}]   \n",
       "3037  [{'term': 'appetizers', 'polarity': 'positive'...   \n",
       "3038     [{'term': 'noaspectterm', 'polarity': 'none'}]   \n",
       "3039  [{'term': 'table', 'polarity': 'neutral'}, {'t...   \n",
       "3040     [{'term': 'noaspectterm', 'polarity': 'none'}]   \n",
       "\n",
       "                                       aspectCategories  \n",
       "0     [{'category': 'service', 'polarity': 'negative'}]  \n",
       "1     [{'category': 'food', 'polarity': 'positive'},...  \n",
       "2        [{'category': 'food', 'polarity': 'positive'}]  \n",
       "3     [{'category': 'service', 'polarity': 'positive'}]  \n",
       "4     [{'category': 'anecdotes/miscellaneous', 'pola...  \n",
       "...                                                 ...  \n",
       "3036  [{'category': 'anecdotes/miscellaneous', 'pola...  \n",
       "3037     [{'category': 'food', 'polarity': 'positive'}]  \n",
       "3038  [{'category': 'anecdotes/miscellaneous', 'pola...  \n",
       "3039      [{'category': 'food', 'polarity': 'neutral'}]  \n",
       "3040  [{'category': 'anecdotes/miscellaneous', 'pola...  \n",
       "\n",
       "[3041 rows x 4 columns]"
      ]
     },
     "execution_count": 52,
     "metadata": {},
     "output_type": "execute_result"
    }
   ],
   "source": [
    "#DATASET ORIGINALE, MI SERVE PER CAPIRE LA FORMA \n",
    "df_original = pd.read_csv(r'C:\\Users\\jacop\\Desktop\\Lavori\\InstructABSA_Fine_Tuning\\Dataset\\SemEval14\\Train\\Restaurants_Train.csv')\n",
    "df_original"
   ]
  },
  {
   "cell_type": "code",
   "execution_count": 61,
   "metadata": {},
   "outputs": [
    {
     "data": {
      "application/vnd.microsoft.datawrangler.viewer.v0+json": {
       "columns": [
        {
         "name": "index",
         "rawType": "int64",
         "type": "integer"
        },
        {
         "name": "restaurant_name",
         "rawType": "object",
         "type": "string"
        },
        {
         "name": "review_full",
         "rawType": "object",
         "type": "string"
        },
        {
         "name": "ABSA_results",
         "rawType": "object",
         "type": "unknown"
        }
       ],
       "ref": "91b12a63-429d-4631-9b37-618dfdcc0037",
       "rows": [
        [
         "1",
         "Chalito_Rambla",
         "This place was a great surprise. The food is delicious, desserts as well. Very close to Plaza Catalunya, so its a good stop for lunch after or before shopping. They serve milanesa and other uruguayan food. Amazing and good price! Much better than tapas.",
         "[{'term': 'food', 'polarity': 'positive'}, {'term': 'desserts', 'polarity': 'positive'}, {'term': 'location', 'polarity': 'positive'}, {'term': 'price', 'polarity': 'positive'}, {'term': 'milanesa', 'polarity': 'None'}, {'term': 'uruguayan food', 'polarity': 'None'}, {'term': 'tapas', 'polarity': 'negative'}]"
        ],
        [
         "2",
         "Chalito_Rambla",
         "The food is excellent.....the ambiance is very nice..the price is very affordable...LEAN is the best the crew in the restaurant shes nice and very friendly",
         "[{'term': 'food', 'polarity': 'positive'}, {'term': 'ambiance', 'polarity': 'positive'}, {'term': 'price', 'polarity': 'positive'}, {'term': 'crew', 'polarity': 'positive'}]"
        ],
        [
         "3",
         "Chalito_Rambla",
         "The food is execellent ,affortable price for people and friendly crew , good service. And the abiance of the restaurant is good also and clean nice abiance. I will comeback again to eat here and i bring my friends to experience The food is execellent food its so delicioustasty ..",
         "[{'term': 'food', 'polarity': 'positive'}, {'term': 'price', 'polarity': 'positive'}, {'term': 'crew', 'polarity': 'positive'}, {'term': 'service', 'polarity': 'positive'}, {'term': 'atmosphere', 'polarity': 'positive'}, {'term': 'abiance', 'polarity': 'positive'}, {'term': 'cleanliness', 'polarity': 'positive'}]"
        ],
        [
         "4",
         "Chalito_Rambla",
         "Mr Suarez,The food at your restaurant was absolutely amazing. However, the service was even better! Jerson and Vanessa we’re so welcoming, helpful and friendly - they are a great asset to you.We will be back!",
         "[{'term': 'food', 'polarity': 'positive'}, {'term': 'service', 'polarity': 'positive'}, {'term': 'jerson', 'polarity': 'positive'}, {'term': 'vanessa', 'polarity': 'positive'}]"
        ],
        [
         "5",
         "Chalito_Rambla",
         "LEAN Excellent environment, friendly service, great menu choices and really decent food and at affordable prices..",
         "[{'term': 'environment', 'polarity': 'positive'}, {'term': 'service', 'polarity': 'positive'}, {'term': 'menu', 'polarity': 'positive'}, {'term': 'food', 'polarity': 'positive'}, {'term': 'price', 'polarity': 'positive'}]"
        ],
        [
         "6",
         "Chalito_Rambla",
         "LEAN.Excellent environment, friendly service, great menu choices and really decent food and at affordable prices.",
         "[{'term': 'environment', 'polarity': 'positive'}, {'term': 'service', 'polarity': 'positive'}, {'term': 'menu', 'polarity': 'positive'}, {'term': 'food', 'polarity': 'positive'}, {'term': 'price', 'polarity': 'positive'}]"
        ],
        [
         "7",
         "Chalito_Rambla",
         "Excellent food and lovely atmosphere! The waitress, Chechu, was really kind and friendly! Highly recommended :)",
         "[{'term': 'food', 'polarity': 'positive'}, {'term': 'atmosphere', 'polarity': 'positive'}, {'term': 'waitress', 'polarity': 'positive'}]"
        ],
        [
         "8",
         "Chalito_Rambla",
         "I visited this placed yesterday to catch a quick bite before heading for the airport. We were greeted by a young man at the entrance who told use we could choose where we sat. We sat down and spent the next 5min or so being ignored. My partner was getting annoyed even so that the 3 young lads at the next table picked up on this and gave us their menus as they had already orderd. Again we spent some time being ignored before we stopped one of the staff walking by to take our order. The good came out quite quickly and to be fair it was very good. After we had finished we again had to ask the staff to clear the table and give us a dessert menu. The lad that we hsd asked wss just finishing and he told us to ask one of his other colleagues who he pointed to. My partner went over and asked for the menu and was told that there was none and that he had had to go inside the restaurant to the counter and pick out what he wanted which was on display and then tell her.  When I went to the counter to pay the male member behind the counter was on his phone. The female member that was there had to hit him with a washcloth to get his attention that I was there. I was paying by card and he never spoke to me and just gestured with his head to ask me to remove my card. The food here is good but the staff definitely need to be given a course on good customer service. I could understand this attitude if the place was seriously under pressure and extremely busy but the place was fairly quiet.",
         "[{'term': 'greeting', 'polarity': 'negative'}, {'term': 'seating', 'polarity': 'neutral'}, {'term': 'wait time (at start)', 'polarity': 'negative'}, {'term': 'service (overall)', 'polarity': 'negative'}, {'term': 'food', 'polarity': 'positive'}, {'term': 'dessert menu', 'polarity': 'neutral'}, {'term': 'clearing table', 'polarity': 'negative'}, {'term': 'staff (individual 1)', 'polarity': 'mixed'}, {'term': 'payment process', 'polarity': 'negative'}, {'term': 'attitude of staff', 'polarity': 'negative'}, {'term': \"ambience (implied by 'quiet place')\", 'polarity': 'neutral'}]"
        ],
        [
         "9",
         "Chalito_Rambla",
         "The food here is sooooo good!! So good and tasty. Yaaaam! We had the best sangria here. We tried sangria in many places but here was the best one.  Big portions of food, good prices, very tasty. We ate here more than one time so I definitely recommend this place",
         "[{'term': 'food', 'polarity': 'positive'}, {'term': 'sangria', 'polarity': 'positive'}, {'term': 'portion size', 'polarity': 'positive'}, {'term': 'price', 'polarity': 'positive'}]"
        ],
        [
         "10",
         "Sports_Bar_Italian_Food_C_Ample",
         "The seafood pasta in this restaurant is the most delicious thing ever!The ingredients are really fresh and super tasty!",
         "[{'term': 'seafood pasta', 'polarity': 'positive'}, {'term': 'ingredients', 'polarity': 'positive'}, {'term': 'fresh', 'polarity': 'positive'}, {'term': 'tasty', 'polarity': 'positive'}]"
        ],
        [
         "11",
         "Sports_Bar_Italian_Food_C_Ample",
         "thank you sports bar for the good food and good service its nice go back to eat again great job more powers",
         "[{'term': 'food', 'polarity': 'positive'}, {'term': 'service', 'polarity': 'positive'}, {'term': 'go back', 'polarity': 'positive'}, {'term': 'job', 'polarity': 'positive'}]"
        ],
        [
         "12",
         "Sports_Bar_Italian_Food_C_Ample",
         "very recommendable restaurant if you are going to barcelona very affordable big servings of italian pasta and very delicious foods my family is very comfortable thank you guys for a wonderful experience we will come back again and again😊",
         "[{'term': 'restaurant', 'polarity': 'positive'}, {'term': 'location (barcelona)', 'polarity': 'positive (implied)'}, {'term': 'price', 'polarity': 'positive'}, {'term': 'serving size', 'polarity': 'positive'}, {'term': 'italian pasta', 'polarity': 'positive'}, {'term': 'foods', 'politary': 'positive'}, {'term': 'family', 'polarity': 'positive (implied)'}, {'term': 'experience', 'polarity': 'positive'}]"
        ],
        [
         "13",
         "Sports_Bar_Italian_Food_C_Ample",
         "I always enjoyed above the average-to-outstanding tiramisu in this establishment...this was before the last take out: Goopy texture, no coffee flavor, no mascarpone richness. In a nutshell awful! Vergognatevi!!!",
         "[{'term': 'tiramisu', 'polarity': 'negative'}]"
        ],
        [
         "14",
         "Sports_Bar_Italian_Food_C_Ample",
         "Despite the lockdown, service at the Sports Bar has been outstanding. The quality of the pizza was excellent, giving some joy to our nights. I highly recommend la pizza fritta and the Marechiaro. Fresh product and great staff.",
         "[{'term': 'service', 'polarity': 'positive'}, {'term': 'pizza', 'polarity': 'positive'}, {'term': 'pizza fritta', 'polarity': 'positive'}, {'term': 'marechiaro', 'polarity': 'positive'}, {'term': 'product', 'polarity': 'positive'}, {'term': 'staff', 'polarity': 'positive'}]"
        ]
       ],
       "shape": {
        "columns": 3,
        "rows": 14
       }
      },
      "text/html": [
       "<div>\n",
       "<style scoped>\n",
       "    .dataframe tbody tr th:only-of-type {\n",
       "        vertical-align: middle;\n",
       "    }\n",
       "\n",
       "    .dataframe tbody tr th {\n",
       "        vertical-align: top;\n",
       "    }\n",
       "\n",
       "    .dataframe thead th {\n",
       "        text-align: right;\n",
       "    }\n",
       "</style>\n",
       "<table border=\"1\" class=\"dataframe\">\n",
       "  <thead>\n",
       "    <tr style=\"text-align: right;\">\n",
       "      <th></th>\n",
       "      <th>restaurant_name</th>\n",
       "      <th>review_full</th>\n",
       "      <th>ABSA_results</th>\n",
       "    </tr>\n",
       "  </thead>\n",
       "  <tbody>\n",
       "    <tr>\n",
       "      <th>1</th>\n",
       "      <td>Chalito_Rambla</td>\n",
       "      <td>This place was a great surprise. The food is d...</td>\n",
       "      <td>[{'term': 'food', 'polarity': 'positive'}, {'t...</td>\n",
       "    </tr>\n",
       "    <tr>\n",
       "      <th>2</th>\n",
       "      <td>Chalito_Rambla</td>\n",
       "      <td>The food is excellent.....the ambiance is very...</td>\n",
       "      <td>[{'term': 'food', 'polarity': 'positive'}, {'t...</td>\n",
       "    </tr>\n",
       "    <tr>\n",
       "      <th>3</th>\n",
       "      <td>Chalito_Rambla</td>\n",
       "      <td>The food is execellent ,affortable price for p...</td>\n",
       "      <td>[{'term': 'food', 'polarity': 'positive'}, {'t...</td>\n",
       "    </tr>\n",
       "    <tr>\n",
       "      <th>4</th>\n",
       "      <td>Chalito_Rambla</td>\n",
       "      <td>Mr Suarez,The food at your restaurant was abso...</td>\n",
       "      <td>[{'term': 'food', 'polarity': 'positive'}, {'t...</td>\n",
       "    </tr>\n",
       "    <tr>\n",
       "      <th>5</th>\n",
       "      <td>Chalito_Rambla</td>\n",
       "      <td>LEAN Excellent environment, friendly service, ...</td>\n",
       "      <td>[{'term': 'environment', 'polarity': 'positive...</td>\n",
       "    </tr>\n",
       "    <tr>\n",
       "      <th>6</th>\n",
       "      <td>Chalito_Rambla</td>\n",
       "      <td>LEAN.Excellent environment, friendly service, ...</td>\n",
       "      <td>[{'term': 'environment', 'polarity': 'positive...</td>\n",
       "    </tr>\n",
       "    <tr>\n",
       "      <th>7</th>\n",
       "      <td>Chalito_Rambla</td>\n",
       "      <td>Excellent food and lovely atmosphere! The wait...</td>\n",
       "      <td>[{'term': 'food', 'polarity': 'positive'}, {'t...</td>\n",
       "    </tr>\n",
       "    <tr>\n",
       "      <th>8</th>\n",
       "      <td>Chalito_Rambla</td>\n",
       "      <td>I visited this placed yesterday to catch a qui...</td>\n",
       "      <td>[{'term': 'greeting', 'polarity': 'negative'},...</td>\n",
       "    </tr>\n",
       "    <tr>\n",
       "      <th>9</th>\n",
       "      <td>Chalito_Rambla</td>\n",
       "      <td>The food here is sooooo good!! So good and tas...</td>\n",
       "      <td>[{'term': 'food', 'polarity': 'positive'}, {'t...</td>\n",
       "    </tr>\n",
       "    <tr>\n",
       "      <th>10</th>\n",
       "      <td>Sports_Bar_Italian_Food_C_Ample</td>\n",
       "      <td>The seafood pasta in this restaurant is the mo...</td>\n",
       "      <td>[{'term': 'seafood pasta', 'polarity': 'positi...</td>\n",
       "    </tr>\n",
       "    <tr>\n",
       "      <th>11</th>\n",
       "      <td>Sports_Bar_Italian_Food_C_Ample</td>\n",
       "      <td>thank you sports bar for the good food and goo...</td>\n",
       "      <td>[{'term': 'food', 'polarity': 'positive'}, {'t...</td>\n",
       "    </tr>\n",
       "    <tr>\n",
       "      <th>12</th>\n",
       "      <td>Sports_Bar_Italian_Food_C_Ample</td>\n",
       "      <td>very recommendable restaurant if you are going...</td>\n",
       "      <td>[{'term': 'restaurant', 'polarity': 'positive'...</td>\n",
       "    </tr>\n",
       "    <tr>\n",
       "      <th>13</th>\n",
       "      <td>Sports_Bar_Italian_Food_C_Ample</td>\n",
       "      <td>I always enjoyed above the average-to-outstand...</td>\n",
       "      <td>[{'term': 'tiramisu', 'polarity': 'negative'}]</td>\n",
       "    </tr>\n",
       "    <tr>\n",
       "      <th>14</th>\n",
       "      <td>Sports_Bar_Italian_Food_C_Ample</td>\n",
       "      <td>Despite the lockdown, service at the Sports Ba...</td>\n",
       "      <td>[{'term': 'service', 'polarity': 'positive'}, ...</td>\n",
       "    </tr>\n",
       "  </tbody>\n",
       "</table>\n",
       "</div>"
      ],
      "text/plain": [
       "                    restaurant_name  \\\n",
       "1                    Chalito_Rambla   \n",
       "2                    Chalito_Rambla   \n",
       "3                    Chalito_Rambla   \n",
       "4                    Chalito_Rambla   \n",
       "5                    Chalito_Rambla   \n",
       "6                    Chalito_Rambla   \n",
       "7                    Chalito_Rambla   \n",
       "8                    Chalito_Rambla   \n",
       "9                    Chalito_Rambla   \n",
       "10  Sports_Bar_Italian_Food_C_Ample   \n",
       "11  Sports_Bar_Italian_Food_C_Ample   \n",
       "12  Sports_Bar_Italian_Food_C_Ample   \n",
       "13  Sports_Bar_Italian_Food_C_Ample   \n",
       "14  Sports_Bar_Italian_Food_C_Ample   \n",
       "\n",
       "                                          review_full  \\\n",
       "1   This place was a great surprise. The food is d...   \n",
       "2   The food is excellent.....the ambiance is very...   \n",
       "3   The food is execellent ,affortable price for p...   \n",
       "4   Mr Suarez,The food at your restaurant was abso...   \n",
       "5   LEAN Excellent environment, friendly service, ...   \n",
       "6   LEAN.Excellent environment, friendly service, ...   \n",
       "7   Excellent food and lovely atmosphere! The wait...   \n",
       "8   I visited this placed yesterday to catch a qui...   \n",
       "9   The food here is sooooo good!! So good and tas...   \n",
       "10  The seafood pasta in this restaurant is the mo...   \n",
       "11  thank you sports bar for the good food and goo...   \n",
       "12  very recommendable restaurant if you are going...   \n",
       "13  I always enjoyed above the average-to-outstand...   \n",
       "14  Despite the lockdown, service at the Sports Ba...   \n",
       "\n",
       "                                         ABSA_results  \n",
       "1   [{'term': 'food', 'polarity': 'positive'}, {'t...  \n",
       "2   [{'term': 'food', 'polarity': 'positive'}, {'t...  \n",
       "3   [{'term': 'food', 'polarity': 'positive'}, {'t...  \n",
       "4   [{'term': 'food', 'polarity': 'positive'}, {'t...  \n",
       "5   [{'term': 'environment', 'polarity': 'positive...  \n",
       "6   [{'term': 'environment', 'polarity': 'positive...  \n",
       "7   [{'term': 'food', 'polarity': 'positive'}, {'t...  \n",
       "8   [{'term': 'greeting', 'polarity': 'negative'},...  \n",
       "9   [{'term': 'food', 'polarity': 'positive'}, {'t...  \n",
       "10  [{'term': 'seafood pasta', 'polarity': 'positi...  \n",
       "11  [{'term': 'food', 'polarity': 'positive'}, {'t...  \n",
       "12  [{'term': 'restaurant', 'polarity': 'positive'...  \n",
       "13     [{'term': 'tiramisu', 'polarity': 'negative'}]  \n",
       "14  [{'term': 'service', 'polarity': 'positive'}, ...  "
      ]
     },
     "execution_count": 61,
     "metadata": {},
     "output_type": "execute_result"
    }
   ],
   "source": [
    "df"
   ]
  },
  {
   "cell_type": "markdown",
   "metadata": {
    "id": "l2xc1EQjq3LY"
   },
   "source": [
    "## Libraries"
   ]
  },
  {
   "cell_type": "code",
   "execution_count": 44,
   "metadata": {
    "id": "6oTPPfF2q5S5"
   },
   "outputs": [
    {
     "data": {
      "text/plain": [
       "'C:\\\\Users\\\\jacop\\\\Desktop\\\\Lavori\\\\InstructABSA_Fine_Tuning'"
      ]
     },
     "execution_count": 44,
     "metadata": {},
     "output_type": "execute_result"
    }
   ],
   "source": [
    "import os\n",
    "import torch\n",
    "import sys\n",
    "\n",
    "\n",
    "root_path = 'C:\\\\Users\\\\jacop\\\\Desktop\\\\Lavori\\\\InstructABSA_Fine_Tuning'  \n",
    "\n",
    "use_mps = True if torch.has_mps else False\n",
    "os.chdir(root_path)\n",
    "    \n",
    "\n",
    "sys.path.append(os.path.abspath(\"..\")) \n",
    "os.getcwd() "
   ]
  },
  {
   "cell_type": "code",
   "execution_count": 45,
   "metadata": {
    "id": "-DvLkxG9lp2t"
   },
   "outputs": [
    {
     "name": "stdout",
     "output_type": "stream",
     "text": [
      "2.6.0+cu118\n",
      "0.21.0+cu118\n",
      "2.6.0+cu118\n"
     ]
    }
   ],
   "source": [
    "import warnings\n",
    "warnings.filterwarnings('ignore')\n",
    "import pandas as pd\n",
    "\n",
    "from InstructABSA.data_prep import DatasetLoader\n",
    "from InstructABSA.utils import T5Generator, T5Classifier\n",
    "from instructions import InstructionsHandler\n",
    "\n",
    "import transformers\n",
    "from transformers import PreTrainedModel\n",
    "\n",
    "import torch, torchvision, torchaudio\n",
    "print(torch.__version__)\n",
    "print(torchvision.__version__)\n",
    "print(torchaudio.__version__)\n"
   ]
  },
  {
   "cell_type": "markdown",
   "metadata": {
    "id": "ht-x1qxn_AxG"
   },
   "source": [
    "## Training"
   ]
  },
  {
   "cell_type": "code",
   "execution_count": 46,
   "metadata": {
    "id": "knn9pcJMXovr"
   },
   "outputs": [
    {
     "name": "stdout",
     "output_type": "stream",
     "text": [
      "Experiment Name:  your_experiment_name\n",
      "Model output path:  ./Models\\joint_task\\kevinscariajoint_tk-instruct-base-def-pos-neg-neut-combined-your_experiment_name\n"
     ]
    }
   ],
   "source": [
    "task_name = 'joint_task'\n",
    "experiment_name = 'your_experiment_name'  ### <-- Enter your experiment name\n",
    "model_checkpoint = 'kevinscaria/joint_tk-instruct-base-def-pos-neg-neut-combined'  # The updated joint model\n",
    "print('Experiment Name: ', experiment_name)\n",
    "model_out_path = './Models'\n",
    "model_out_path = os.path.join(model_out_path, task_name, f\"{model_checkpoint.replace('/', '')}-{experiment_name}\")\n",
    "print('Model output path: ', model_out_path)"
   ]
  },
  {
   "cell_type": "code",
   "execution_count": 63,
   "metadata": {},
   "outputs": [
    {
     "name": "stdout",
     "output_type": "stream",
     "text": [
      "Row: 12 Bad dict: {'term': 'foods', 'politary': 'positive'}\n"
     ]
    }
   ],
   "source": [
    "for idx, row in loader.train_df_id.iterrows():\n",
    "    for d in row['ABSA_results']:\n",
    "        if 'polarity' not in d:\n",
    "            print(\"Row:\", idx, \"Bad dict:\", d)"
   ]
  },
  {
   "cell_type": "code",
   "execution_count": 62,
   "metadata": {
    "id": "3hfAuLAvVe8D"
   },
   "outputs": [
    {
     "ename": "KeyError",
     "evalue": "'polarity'",
     "output_type": "error",
     "traceback": [
      "\u001b[31m---------------------------------------------------------------------------\u001b[39m",
      "\u001b[31mKeyError\u001b[39m                                  Traceback (most recent call last)",
      "\u001b[36mCell\u001b[39m\u001b[36m \u001b[39m\u001b[32mIn[62]\u001b[39m\u001b[32m, line 18\u001b[39m\n\u001b[32m     16\u001b[39m loader = DatasetLoader(id_tr_df, id_te_df)\n\u001b[32m     17\u001b[39m \u001b[38;5;28;01mif\u001b[39;00m loader.train_df_id \u001b[38;5;129;01mis\u001b[39;00m \u001b[38;5;129;01mnot\u001b[39;00m \u001b[38;5;28;01mNone\u001b[39;00m:\n\u001b[32m---> \u001b[39m\u001b[32m18\u001b[39m     loader.train_df_id = \u001b[43mloader\u001b[49m\u001b[43m.\u001b[49m\u001b[43mcreate_data_in_aspe_format\u001b[49m\u001b[43m(\u001b[49m\u001b[43mloader\u001b[49m\u001b[43m.\u001b[49m\u001b[43mtrain_df_id\u001b[49m\u001b[43m,\u001b[49m\u001b[43m \u001b[49m\u001b[33;43m'\u001b[39;49m\u001b[33;43mterm\u001b[39;49m\u001b[33;43m'\u001b[39;49m\u001b[43m,\u001b[49m\u001b[43m \u001b[49m\u001b[33;43m'\u001b[39;49m\u001b[33;43mpolarity\u001b[39;49m\u001b[33;43m'\u001b[39;49m\u001b[43m,\u001b[49m\u001b[43m \u001b[49m\u001b[33;43m'\u001b[39;49m\u001b[33;43mreview_full\u001b[39;49m\u001b[33;43m'\u001b[39;49m\u001b[43m,\u001b[49m\u001b[43m \u001b[49m\u001b[33;43m'\u001b[39;49m\u001b[33;43mABSA_results\u001b[39;49m\u001b[33;43m'\u001b[39;49m\u001b[43m,\u001b[49m\u001b[43m \u001b[49m\n\u001b[32m     19\u001b[39m \u001b[43m                                                           \u001b[49m\u001b[43minstruct_handler\u001b[49m\u001b[43m.\u001b[49m\u001b[43maspe\u001b[49m\u001b[43m[\u001b[49m\u001b[33;43m'\u001b[39;49m\u001b[33;43mbos_instruct2\u001b[39;49m\u001b[33;43m'\u001b[39;49m\u001b[43m]\u001b[49m\u001b[43m,\u001b[49m\u001b[43m \u001b[49m\n\u001b[32m     20\u001b[39m \u001b[43m                                                           \u001b[49m\u001b[43minstruct_handler\u001b[49m\u001b[43m.\u001b[49m\u001b[43maspe\u001b[49m\u001b[43m[\u001b[49m\u001b[33;43m'\u001b[39;49m\u001b[33;43meos_instruct\u001b[39;49m\u001b[33;43m'\u001b[39;49m\u001b[43m]\u001b[49m\u001b[43m)\u001b[49m\n\u001b[32m     21\u001b[39m \u001b[38;5;28;01mif\u001b[39;00m loader.test_df_id \u001b[38;5;129;01mis\u001b[39;00m \u001b[38;5;129;01mnot\u001b[39;00m \u001b[38;5;28;01mNone\u001b[39;00m:\n\u001b[32m     22\u001b[39m     loader.test_df_id = loader.create_data_in_aspe_format(loader.test_df_id, \u001b[33m'\u001b[39m\u001b[33mterm\u001b[39m\u001b[33m'\u001b[39m, \u001b[33m'\u001b[39m\u001b[33mpolarity\u001b[39m\u001b[33m'\u001b[39m, \u001b[33m'\u001b[39m\u001b[33mreview_full\u001b[39m\u001b[33m'\u001b[39m, \u001b[33m'\u001b[39m\u001b[33mABSA_results\u001b[39m\u001b[33m'\u001b[39m, \n\u001b[32m     23\u001b[39m                                                           instruct_handler.aspe[\u001b[33m'\u001b[39m\u001b[33mbos_instruct2\u001b[39m\u001b[33m'\u001b[39m], \n\u001b[32m     24\u001b[39m                                                           instruct_handler.aspe[\u001b[33m'\u001b[39m\u001b[33meos_instruct\u001b[39m\u001b[33m'\u001b[39m])\n",
      "\u001b[36mFile \u001b[39m\u001b[32m~\\Desktop\\Lavori\\InstructABSA_Fine_Tuning\\InstructABSA\\data_prep.py:117\u001b[39m, in \u001b[36mcreate_data_in_aspe_format\u001b[39m\u001b[34m(self, df, key, label_key, text_col, aspect_col, bos_instruction, eos_instruction)\u001b[39m\n\u001b[32m    113\u001b[39m     df[\u001b[33m'\u001b[39m\u001b[33mtext\u001b[39m\u001b[33m'\u001b[39m] = df[text_col].apply(\u001b[38;5;28;01mlambda\u001b[39;00m x: bos_instruction + x + eos_instruction)\n\u001b[32m    114\u001b[39m     \u001b[38;5;28;01mreturn\u001b[39;00m df\n\u001b[32m    116\u001b[39m \u001b[38;5;28;01mdef\u001b[39;00m\u001b[38;5;250m \u001b[39m\u001b[34mcreate_data_in_aoste_format\u001b[39m(\u001b[38;5;28mself\u001b[39m, df, key, label_key, text_col, aspect_col, opinion_col,\n\u001b[32m--> \u001b[39m\u001b[32m117\u001b[39m                                      bos_instruction = \u001b[33m'\u001b[39m\u001b[33m'\u001b[39m, eos_instruction = \u001b[33m'\u001b[39m\u001b[33m'\u001b[39m):\n\u001b[32m    118\u001b[39m \u001b[38;5;250m    \u001b[39m\u001b[33;03m\"\"\"\u001b[39;00m\n\u001b[32m    119\u001b[39m \u001b[33;03m    Prepare the data in the input format required.\u001b[39;00m\n\u001b[32m    120\u001b[39m \u001b[33;03m    \"\"\"\u001b[39;00m\n\u001b[32m    121\u001b[39m     label_map = {\u001b[33m'\u001b[39m\u001b[33mPOS\u001b[39m\u001b[33m'\u001b[39m:\u001b[33m'\u001b[39m\u001b[33mpositive\u001b[39m\u001b[33m'\u001b[39m, \u001b[33m'\u001b[39m\u001b[33mNEG\u001b[39m\u001b[33m'\u001b[39m:\u001b[33m'\u001b[39m\u001b[33mnegative\u001b[39m\u001b[33m'\u001b[39m, \u001b[33m'\u001b[39m\u001b[33mNEU\u001b[39m\u001b[33m'\u001b[39m:\u001b[33m'\u001b[39m\u001b[33mneutral\u001b[39m\u001b[33m'\u001b[39m}\n",
      "\u001b[36mFile \u001b[39m\u001b[32mc:\\Users\\jacop\\Desktop\\Lavori\\Consigl_IA_mi-\\.conda\\Lib\\site-packages\\pandas\\core\\series.py:4935\u001b[39m, in \u001b[36mSeries.apply\u001b[39m\u001b[34m(self, func, convert_dtype, args, by_row, **kwargs)\u001b[39m\n\u001b[32m   4800\u001b[39m \u001b[38;5;28;01mdef\u001b[39;00m\u001b[38;5;250m \u001b[39m\u001b[34mapply\u001b[39m(\n\u001b[32m   4801\u001b[39m     \u001b[38;5;28mself\u001b[39m,\n\u001b[32m   4802\u001b[39m     func: AggFuncType,\n\u001b[32m   (...)\u001b[39m\u001b[32m   4807\u001b[39m     **kwargs,\n\u001b[32m   4808\u001b[39m ) -> DataFrame | Series:\n\u001b[32m   4809\u001b[39m \u001b[38;5;250m    \u001b[39m\u001b[33;03m\"\"\"\u001b[39;00m\n\u001b[32m   4810\u001b[39m \u001b[33;03m    Invoke function on values of Series.\u001b[39;00m\n\u001b[32m   4811\u001b[39m \n\u001b[32m   (...)\u001b[39m\u001b[32m   4926\u001b[39m \u001b[33;03m    dtype: float64\u001b[39;00m\n\u001b[32m   4927\u001b[39m \u001b[33;03m    \"\"\"\u001b[39;00m\n\u001b[32m   4928\u001b[39m     \u001b[38;5;28;01mreturn\u001b[39;00m \u001b[43mSeriesApply\u001b[49m\u001b[43m(\u001b[49m\n\u001b[32m   4929\u001b[39m \u001b[43m        \u001b[49m\u001b[38;5;28;43mself\u001b[39;49m\u001b[43m,\u001b[49m\n\u001b[32m   4930\u001b[39m \u001b[43m        \u001b[49m\u001b[43mfunc\u001b[49m\u001b[43m,\u001b[49m\n\u001b[32m   4931\u001b[39m \u001b[43m        \u001b[49m\u001b[43mconvert_dtype\u001b[49m\u001b[43m=\u001b[49m\u001b[43mconvert_dtype\u001b[49m\u001b[43m,\u001b[49m\n\u001b[32m   4932\u001b[39m \u001b[43m        \u001b[49m\u001b[43mby_row\u001b[49m\u001b[43m=\u001b[49m\u001b[43mby_row\u001b[49m\u001b[43m,\u001b[49m\n\u001b[32m   4933\u001b[39m \u001b[43m        \u001b[49m\u001b[43margs\u001b[49m\u001b[43m=\u001b[49m\u001b[43margs\u001b[49m\u001b[43m,\u001b[49m\n\u001b[32m   4934\u001b[39m \u001b[43m        \u001b[49m\u001b[43mkwargs\u001b[49m\u001b[43m=\u001b[49m\u001b[43mkwargs\u001b[49m\u001b[43m,\u001b[49m\n\u001b[32m-> \u001b[39m\u001b[32m4935\u001b[39m \u001b[43m    \u001b[49m\u001b[43m)\u001b[49m\u001b[43m.\u001b[49m\u001b[43mapply\u001b[49m\u001b[43m(\u001b[49m\u001b[43m)\u001b[49m\n",
      "\u001b[36mFile \u001b[39m\u001b[32mc:\\Users\\jacop\\Desktop\\Lavori\\Consigl_IA_mi-\\.conda\\Lib\\site-packages\\pandas\\core\\apply.py:1422\u001b[39m, in \u001b[36mSeriesApply.apply\u001b[39m\u001b[34m(self)\u001b[39m\n\u001b[32m   1419\u001b[39m     \u001b[38;5;28;01mreturn\u001b[39;00m \u001b[38;5;28mself\u001b[39m.apply_compat()\n\u001b[32m   1421\u001b[39m \u001b[38;5;66;03m# self.func is Callable\u001b[39;00m\n\u001b[32m-> \u001b[39m\u001b[32m1422\u001b[39m \u001b[38;5;28;01mreturn\u001b[39;00m \u001b[38;5;28;43mself\u001b[39;49m\u001b[43m.\u001b[49m\u001b[43mapply_standard\u001b[49m\u001b[43m(\u001b[49m\u001b[43m)\u001b[49m\n",
      "\u001b[36mFile \u001b[39m\u001b[32mc:\\Users\\jacop\\Desktop\\Lavori\\Consigl_IA_mi-\\.conda\\Lib\\site-packages\\pandas\\core\\apply.py:1502\u001b[39m, in \u001b[36mSeriesApply.apply_standard\u001b[39m\u001b[34m(self)\u001b[39m\n\u001b[32m   1496\u001b[39m \u001b[38;5;66;03m# row-wise access\u001b[39;00m\n\u001b[32m   1497\u001b[39m \u001b[38;5;66;03m# apply doesn't have a `na_action` keyword and for backward compat reasons\u001b[39;00m\n\u001b[32m   1498\u001b[39m \u001b[38;5;66;03m# we need to give `na_action=\"ignore\"` for categorical data.\u001b[39;00m\n\u001b[32m   1499\u001b[39m \u001b[38;5;66;03m# TODO: remove the `na_action=\"ignore\"` when that default has been changed in\u001b[39;00m\n\u001b[32m   1500\u001b[39m \u001b[38;5;66;03m#  Categorical (GH51645).\u001b[39;00m\n\u001b[32m   1501\u001b[39m action = \u001b[33m\"\u001b[39m\u001b[33mignore\u001b[39m\u001b[33m\"\u001b[39m \u001b[38;5;28;01mif\u001b[39;00m \u001b[38;5;28misinstance\u001b[39m(obj.dtype, CategoricalDtype) \u001b[38;5;28;01melse\u001b[39;00m \u001b[38;5;28;01mNone\u001b[39;00m\n\u001b[32m-> \u001b[39m\u001b[32m1502\u001b[39m mapped = \u001b[43mobj\u001b[49m\u001b[43m.\u001b[49m\u001b[43m_map_values\u001b[49m\u001b[43m(\u001b[49m\n\u001b[32m   1503\u001b[39m \u001b[43m    \u001b[49m\u001b[43mmapper\u001b[49m\u001b[43m=\u001b[49m\u001b[43mcurried\u001b[49m\u001b[43m,\u001b[49m\u001b[43m \u001b[49m\u001b[43mna_action\u001b[49m\u001b[43m=\u001b[49m\u001b[43maction\u001b[49m\u001b[43m,\u001b[49m\u001b[43m \u001b[49m\u001b[43mconvert\u001b[49m\u001b[43m=\u001b[49m\u001b[38;5;28;43mself\u001b[39;49m\u001b[43m.\u001b[49m\u001b[43mconvert_dtype\u001b[49m\n\u001b[32m   1504\u001b[39m \u001b[43m\u001b[49m\u001b[43m)\u001b[49m\n\u001b[32m   1506\u001b[39m \u001b[38;5;28;01mif\u001b[39;00m \u001b[38;5;28mlen\u001b[39m(mapped) \u001b[38;5;129;01mand\u001b[39;00m \u001b[38;5;28misinstance\u001b[39m(mapped[\u001b[32m0\u001b[39m], ABCSeries):\n\u001b[32m   1507\u001b[39m     \u001b[38;5;66;03m# GH#43986 Need to do list(mapped) in order to get treated as nested\u001b[39;00m\n\u001b[32m   1508\u001b[39m     \u001b[38;5;66;03m#  See also GH#25959 regarding EA support\u001b[39;00m\n\u001b[32m   1509\u001b[39m     \u001b[38;5;28;01mreturn\u001b[39;00m obj._constructor_expanddim(\u001b[38;5;28mlist\u001b[39m(mapped), index=obj.index)\n",
      "\u001b[36mFile \u001b[39m\u001b[32mc:\\Users\\jacop\\Desktop\\Lavori\\Consigl_IA_mi-\\.conda\\Lib\\site-packages\\pandas\\core\\base.py:925\u001b[39m, in \u001b[36mIndexOpsMixin._map_values\u001b[39m\u001b[34m(self, mapper, na_action, convert)\u001b[39m\n\u001b[32m    922\u001b[39m \u001b[38;5;28;01mif\u001b[39;00m \u001b[38;5;28misinstance\u001b[39m(arr, ExtensionArray):\n\u001b[32m    923\u001b[39m     \u001b[38;5;28;01mreturn\u001b[39;00m arr.map(mapper, na_action=na_action)\n\u001b[32m--> \u001b[39m\u001b[32m925\u001b[39m \u001b[38;5;28;01mreturn\u001b[39;00m \u001b[43malgorithms\u001b[49m\u001b[43m.\u001b[49m\u001b[43mmap_array\u001b[49m\u001b[43m(\u001b[49m\u001b[43marr\u001b[49m\u001b[43m,\u001b[49m\u001b[43m \u001b[49m\u001b[43mmapper\u001b[49m\u001b[43m,\u001b[49m\u001b[43m \u001b[49m\u001b[43mna_action\u001b[49m\u001b[43m=\u001b[49m\u001b[43mna_action\u001b[49m\u001b[43m,\u001b[49m\u001b[43m \u001b[49m\u001b[43mconvert\u001b[49m\u001b[43m=\u001b[49m\u001b[43mconvert\u001b[49m\u001b[43m)\u001b[49m\n",
      "\u001b[36mFile \u001b[39m\u001b[32mc:\\Users\\jacop\\Desktop\\Lavori\\Consigl_IA_mi-\\.conda\\Lib\\site-packages\\pandas\\core\\algorithms.py:1743\u001b[39m, in \u001b[36mmap_array\u001b[39m\u001b[34m(arr, mapper, na_action, convert)\u001b[39m\n\u001b[32m   1741\u001b[39m values = arr.astype(\u001b[38;5;28mobject\u001b[39m, copy=\u001b[38;5;28;01mFalse\u001b[39;00m)\n\u001b[32m   1742\u001b[39m \u001b[38;5;28;01mif\u001b[39;00m na_action \u001b[38;5;129;01mis\u001b[39;00m \u001b[38;5;28;01mNone\u001b[39;00m:\n\u001b[32m-> \u001b[39m\u001b[32m1743\u001b[39m     \u001b[38;5;28;01mreturn\u001b[39;00m \u001b[43mlib\u001b[49m\u001b[43m.\u001b[49m\u001b[43mmap_infer\u001b[49m\u001b[43m(\u001b[49m\u001b[43mvalues\u001b[49m\u001b[43m,\u001b[49m\u001b[43m \u001b[49m\u001b[43mmapper\u001b[49m\u001b[43m,\u001b[49m\u001b[43m \u001b[49m\u001b[43mconvert\u001b[49m\u001b[43m=\u001b[49m\u001b[43mconvert\u001b[49m\u001b[43m)\u001b[49m\n\u001b[32m   1744\u001b[39m \u001b[38;5;28;01melse\u001b[39;00m:\n\u001b[32m   1745\u001b[39m     \u001b[38;5;28;01mreturn\u001b[39;00m lib.map_infer_mask(\n\u001b[32m   1746\u001b[39m         values, mapper, mask=isna(values).view(np.uint8), convert=convert\n\u001b[32m   1747\u001b[39m     )\n",
      "\u001b[36mFile \u001b[39m\u001b[32mpandas/_libs/lib.pyx:2999\u001b[39m, in \u001b[36mpandas._libs.lib.map_infer\u001b[39m\u001b[34m()\u001b[39m\n",
      "\u001b[36mFile \u001b[39m\u001b[32m~\\Desktop\\Lavori\\InstructABSA_Fine_Tuning\\InstructABSA\\data_prep.py:117\u001b[39m, in \u001b[36m<lambda>\u001b[39m\u001b[34m(x)\u001b[39m\n\u001b[32m    113\u001b[39m     df[\u001b[33m'\u001b[39m\u001b[33mtext\u001b[39m\u001b[33m'\u001b[39m] = df[text_col].apply(\u001b[38;5;28;01mlambda\u001b[39;00m x: bos_instruction + x + eos_instruction)\n\u001b[32m    114\u001b[39m     \u001b[38;5;28;01mreturn\u001b[39;00m df\n\u001b[32m    116\u001b[39m \u001b[38;5;28;01mdef\u001b[39;00m\u001b[38;5;250m \u001b[39m\u001b[34mcreate_data_in_aoste_format\u001b[39m(\u001b[38;5;28mself\u001b[39m, df, key, label_key, text_col, aspect_col, opinion_col,\n\u001b[32m--> \u001b[39m\u001b[32m117\u001b[39m                                      bos_instruction = \u001b[33m'\u001b[39m\u001b[33m'\u001b[39m, eos_instruction = \u001b[33m'\u001b[39m\u001b[33m'\u001b[39m):\n\u001b[32m    118\u001b[39m \u001b[38;5;250m    \u001b[39m\u001b[33;03m\"\"\"\u001b[39;00m\n\u001b[32m    119\u001b[39m \u001b[33;03m    Prepare the data in the input format required.\u001b[39;00m\n\u001b[32m    120\u001b[39m \u001b[33;03m    \"\"\"\u001b[39;00m\n\u001b[32m    121\u001b[39m     label_map = {\u001b[33m'\u001b[39m\u001b[33mPOS\u001b[39m\u001b[33m'\u001b[39m:\u001b[33m'\u001b[39m\u001b[33mpositive\u001b[39m\u001b[33m'\u001b[39m, \u001b[33m'\u001b[39m\u001b[33mNEG\u001b[39m\u001b[33m'\u001b[39m:\u001b[33m'\u001b[39m\u001b[33mnegative\u001b[39m\u001b[33m'\u001b[39m, \u001b[33m'\u001b[39m\u001b[33mNEU\u001b[39m\u001b[33m'\u001b[39m:\u001b[33m'\u001b[39m\u001b[33mneutral\u001b[39m\u001b[33m'\u001b[39m}\n",
      "\u001b[36mFile \u001b[39m\u001b[32m~\\Desktop\\Lavori\\InstructABSA_Fine_Tuning\\InstructABSA\\data_prep.py:117\u001b[39m, in \u001b[36m<listcomp>\u001b[39m\u001b[34m(.0)\u001b[39m\n\u001b[32m    113\u001b[39m     df[\u001b[33m'\u001b[39m\u001b[33mtext\u001b[39m\u001b[33m'\u001b[39m] = df[text_col].apply(\u001b[38;5;28;01mlambda\u001b[39;00m x: bos_instruction + x + eos_instruction)\n\u001b[32m    114\u001b[39m     \u001b[38;5;28;01mreturn\u001b[39;00m df\n\u001b[32m    116\u001b[39m \u001b[38;5;28;01mdef\u001b[39;00m\u001b[38;5;250m \u001b[39m\u001b[34mcreate_data_in_aoste_format\u001b[39m(\u001b[38;5;28mself\u001b[39m, df, key, label_key, text_col, aspect_col, opinion_col,\n\u001b[32m--> \u001b[39m\u001b[32m117\u001b[39m                                      bos_instruction = \u001b[33m'\u001b[39m\u001b[33m'\u001b[39m, eos_instruction = \u001b[33m'\u001b[39m\u001b[33m'\u001b[39m):\n\u001b[32m    118\u001b[39m \u001b[38;5;250m    \u001b[39m\u001b[33;03m\"\"\"\u001b[39;00m\n\u001b[32m    119\u001b[39m \u001b[33;03m    Prepare the data in the input format required.\u001b[39;00m\n\u001b[32m    120\u001b[39m \u001b[33;03m    \"\"\"\u001b[39;00m\n\u001b[32m    121\u001b[39m     label_map = {\u001b[33m'\u001b[39m\u001b[33mPOS\u001b[39m\u001b[33m'\u001b[39m:\u001b[33m'\u001b[39m\u001b[33mpositive\u001b[39m\u001b[33m'\u001b[39m, \u001b[33m'\u001b[39m\u001b[33mNEG\u001b[39m\u001b[33m'\u001b[39m:\u001b[33m'\u001b[39m\u001b[33mnegative\u001b[39m\u001b[33m'\u001b[39m, \u001b[33m'\u001b[39m\u001b[33mNEU\u001b[39m\u001b[33m'\u001b[39m:\u001b[33m'\u001b[39m\u001b[33mneutral\u001b[39m\u001b[33m'\u001b[39m}\n",
      "\u001b[31mKeyError\u001b[39m: 'polarity'"
     ]
    }
   ],
   "source": [
    "# Load the data\n",
    "id_train_file_path = r'C:\\Users\\jacop\\Desktop\\Lavori\\InstructABSA_Fine_Tuning\\Dataset\\SemEval14\\Train\\Restaurants_Train.csv'  \n",
    "id_test_file_path = r'C:\\Users\\jacop\\Desktop\\Lavori\\InstructABSA_Fine_Tuning\\Dataset\\SemEval14\\Test\\Restaurants_Test.csv'   \n",
    "#id_tr_df = pd.read_csv(id_train_file_path)\n",
    "#id_te_df = pd.read_csv(id_test_file_path)\n",
    "id_tr_df = df #pd.read_csv(id_train_file_path)\n",
    "id_te_df = df #pd.read_csv(id_test_file_path)\n",
    "\n",
    "# Get the input text into the required format using Instructions\n",
    "instruct_handler = InstructionsHandler() #an object that contain various type of instruction for the tuning \n",
    "\n",
    "# Set instruction_set1 for InstructABSA-1 and instruction_set2 for InstructABSA-2\n",
    "instruct_handler.load_instruction_set2()\n",
    "\n",
    "# Set bos_instruct1 for lapt14 and bos_instruct2 for rest14. For other datasets, modify the insructions.py file.\n",
    "loader = DatasetLoader(id_tr_df, id_te_df)\n",
    "if loader.train_df_id is not None:\n",
    "    loader.train_df_id = loader.create_data_in_aspe_format(loader.train_df_id, 'term', 'polarity', 'review_full', 'ABSA_results', \n",
    "                                                           instruct_handler.aspe['bos_instruct2'], \n",
    "                                                           instruct_handler.aspe['eos_instruct'])\n",
    "if loader.test_df_id is not None:\n",
    "    loader.test_df_id = loader.create_data_in_aspe_format(loader.test_df_id, 'term', 'polarity', 'review_full', 'ABSA_results', \n",
    "                                                          instruct_handler.aspe['bos_instruct2'], \n",
    "                                                          instruct_handler.aspe['eos_instruct'])"
   ]
  },
  {
   "cell_type": "code",
   "execution_count": 21,
   "metadata": {},
   "outputs": [
    {
     "data": {
      "application/vnd.microsoft.datawrangler.viewer.v0+json": {
       "columns": [
        {
         "name": "index",
         "rawType": "int64",
         "type": "integer"
        },
        {
         "name": "sentenceId",
         "rawType": "int64",
         "type": "integer"
        },
        {
         "name": "raw_text",
         "rawType": "object",
         "type": "string"
        },
        {
         "name": "aspectTerms",
         "rawType": "object",
         "type": "string"
        },
        {
         "name": "aspectCategories",
         "rawType": "object",
         "type": "string"
        }
       ],
       "ref": "68509e9d-a9c5-492c-9eae-2c13f2b449f2",
       "rows": [
        [
         "0",
         "3121",
         "But the staff was so horrible to us.",
         "[{'term': 'staff', 'polarity': 'negative'}]",
         "[{'category': 'service', 'polarity': 'negative'}]"
        ],
        [
         "1",
         "2777",
         "To be completely fair, the only redeeming factor was the food, which was above average, but couldn't make up for all the other deficiencies of Teodora.",
         "[{'term': 'food', 'polarity': 'positive'}]",
         "[{'category': 'food', 'polarity': 'positive'}, {'category': 'anecdotes/miscellaneous', 'polarity': 'negative'}]"
        ],
        [
         "2",
         "1634",
         "The food is uniformly exceptional, with a very capable kitchen which will proudly whip up whatever you feel like eating, whether it's on the menu or not.",
         "[{'term': 'food', 'polarity': 'positive'}, {'term': 'kitchen', 'polarity': 'positive'}, {'term': 'menu', 'polarity': 'neutral'}]",
         "[{'category': 'food', 'polarity': 'positive'}]"
        ],
        [
         "3",
         "2534",
         "Where Gabriela personaly greets you and recommends you what to eat.",
         "[{'term': 'noaspectterm', 'polarity': 'none'}]",
         "[{'category': 'service', 'polarity': 'positive'}]"
        ],
        [
         "4",
         "583",
         "For those that go once and don't enjoy it, all I can say is that they just don't get it.",
         "[{'term': 'noaspectterm', 'polarity': 'none'}]",
         "[{'category': 'anecdotes/miscellaneous', 'polarity': 'positive'}]"
        ],
        [
         "5",
         "2846",
         "Not only was the food outstanding, but the little 'perks' were great.",
         "[{'term': 'food', 'polarity': 'positive'}, {'term': 'perks', 'polarity': 'positive'}]",
         "[{'category': 'food', 'polarity': 'positive'}, {'category': 'service', 'polarity': 'positive'}]"
        ],
        [
         "6",
         "1571",
         "It is very overpriced and not very tasty.",
         "[{'term': 'noaspectterm', 'polarity': 'none'}]",
         "[{'category': 'food', 'polarity': 'negative'}, {'category': 'price', 'polarity': 'negative'}]"
        ],
        [
         "7",
         "1458",
         "Our agreed favorite is the orrechiete with sausage and chicken (usually the waiters are kind enough to split the dish in half so you get to sample both meats).",
         "[{'term': 'orrechiete with sausage and chicken', 'polarity': 'positive'}, {'term': 'waiters', 'polarity': 'positive'}, {'term': 'meats', 'polarity': 'neutral'}, {'term': 'dish', 'polarity': 'neutral'}]",
         "[{'category': 'food', 'polarity': 'positive'}, {'category': 'service', 'polarity': 'positive'}]"
        ],
        [
         "8",
         "3161",
         "The Bagels have an outstanding taste with a terrific texture, both chewy yet not gummy.",
         "[{'term': 'Bagels', 'polarity': 'positive'}]",
         "[{'category': 'food', 'polarity': 'positive'}]"
        ],
        [
         "9",
         "2391",
         "Nevertheless the food itself is pretty good.",
         "[{'term': 'food', 'polarity': 'positive'}]",
         "[{'category': 'food', 'polarity': 'positive'}]"
        ],
        [
         "10",
         "296",
         "They did not have mayonnaise, forgot our toast, left out ingredients (ie cheese in an omelet), below hot temperatures and the bacon was so over cooked it crumbled on the plate when you touched it.",
         "[{'term': 'toast', 'polarity': 'negative'}, {'term': 'mayonnaise', 'polarity': 'negative'}, {'term': 'bacon', 'polarity': 'negative'}, {'term': 'cheese', 'polarity': 'neutral'}, {'term': 'ingredients', 'polarity': 'negative'}, {'term': 'plate', 'polarity': 'neutral'}, {'term': 'omelet', 'polarity': 'neutral'}]",
         "[{'category': 'food', 'polarity': 'negative'}]"
        ],
        [
         "11",
         "1793",
         "It took half an hour to get our check, which was perfect since we could sit, have drinks and talk!",
         "[{'term': 'drinks', 'polarity': 'neutral'}, {'term': 'check', 'polarity': 'neutral'}]",
         "[{'category': 'service', 'polarity': 'conflict'}]"
        ],
        [
         "12",
         "2200",
         "The design and atmosphere is just as good.",
         "[{'term': 'design', 'polarity': 'positive'}, {'term': 'atmosphere', 'polarity': 'positive'}]",
         "[{'category': 'ambience', 'polarity': 'positive'}]"
        ],
        [
         "13",
         "3195",
         "He has visited Thailand and is quite expert on the cuisine.",
         "[{'term': 'cuisine', 'polarity': 'positive'}]",
         "[{'category': 'food', 'polarity': 'positive'}]"
        ],
        [
         "14",
         "3119",
         "I would definitely recommend Mary's and am making it one of my regular neighborhood haunts.",
         "[{'term': 'noaspectterm', 'polarity': 'none'}]",
         "[{'category': 'anecdotes/miscellaneous', 'polarity': 'positive'}]"
        ],
        [
         "15",
         "3359",
         "The pizza is the best if you like thin crusted pizza.",
         "[{'term': 'pizza', 'polarity': 'positive'}, {'term': 'thin crusted pizza', 'polarity': 'neutral'}]",
         "[{'category': 'food', 'polarity': 'positive'}]"
        ],
        [
         "16",
         "70",
         "My Girlfriend and I stumbled onto this hopping place the other night and had a great time!",
         "[{'term': 'noaspectterm', 'polarity': 'none'}]",
         "[{'category': 'anecdotes/miscellaneous', 'polarity': 'positive'}]"
        ],
        [
         "17",
         "1829",
         "He can't help, they're bought up so fast.",
         "[{'term': 'noaspectterm', 'polarity': 'none'}]",
         "[{'category': 'anecdotes/miscellaneous', 'polarity': 'neutral'}]"
        ],
        [
         "18",
         "2935",
         "Secondly, on this night the place was overwhelmed by upper east side ladies perfume.",
         "[{'term': 'noaspectterm', 'polarity': 'none'}]",
         "[{'category': 'ambience', 'polarity': 'negative'}]"
        ],
        [
         "19",
         "1805",
         "i have eaten here a handful of times, for no reason besides sheer convenience.",
         "[{'term': 'noaspectterm', 'polarity': 'none'}]",
         "[{'category': 'anecdotes/miscellaneous', 'polarity': 'neutral'}]"
        ],
        [
         "20",
         "2559",
         "Obviously run by folks who know a pie.",
         "[{'term': 'noaspectterm', 'polarity': 'none'}]",
         "[{'category': 'service', 'polarity': 'positive'}]"
        ],
        [
         "21",
         "716",
         "We were very disappointed.",
         "[{'term': 'noaspectterm', 'polarity': 'none'}]",
         "[{'category': 'anecdotes/miscellaneous', 'polarity': 'negative'}]"
        ],
        [
         "22",
         "2464",
         "IT IS DEFINITELY SPECIAL AND AFFORDABLE.",
         "[{'term': 'noaspectterm', 'polarity': 'none'}]",
         "[{'category': 'anecdotes/miscellaneous', 'polarity': 'positive'}, {'category': 'price', 'polarity': 'positive'}]"
        ],
        [
         "23",
         "385",
         "I really liked this place.",
         "[{'term': 'noaspectterm', 'polarity': 'none'}]",
         "[{'category': 'anecdotes/miscellaneous', 'polarity': 'positive'}]"
        ],
        [
         "24",
         "1350",
         "I will be going back very soon.",
         "[{'term': 'noaspectterm', 'polarity': 'none'}]",
         "[{'category': 'anecdotes/miscellaneous', 'polarity': 'positive'}]"
        ],
        [
         "25",
         "3534",
         "All the money went into the interior decoration, none of it went to the chefs.",
         "[{'term': 'interior decoration', 'polarity': 'positive'}, {'term': 'chefs', 'polarity': 'negative'}]",
         "[{'category': 'ambience', 'polarity': 'positive'}, {'category': 'food', 'polarity': 'negative'}]"
        ],
        [
         "26",
         "1407",
         "The seats are uncomfortable if you are sitting against the wall on wooden benches.",
         "[{'term': 'seats', 'polarity': 'negative'}]",
         "[{'category': 'ambience', 'polarity': 'negative'}]"
        ],
        [
         "27",
         "565",
         "I asked for seltzer with lime, no ice.",
         "[{'term': 'seltzer with lime', 'polarity': 'neutral'}]",
         "[{'category': 'food', 'polarity': 'neutral'}]"
        ],
        [
         "28",
         "387",
         "It was pretty inexpensive too.",
         "[{'term': 'noaspectterm', 'polarity': 'none'}]",
         "[{'category': 'price', 'polarity': 'positive'}]"
        ],
        [
         "29",
         "1314",
         "Will not be back.",
         "[{'term': 'noaspectterm', 'polarity': 'none'}]",
         "[{'category': 'anecdotes/miscellaneous', 'polarity': 'negative'}]"
        ],
        [
         "30",
         "675",
         "Don't go alone---even two people isn't enough for the whole experience, with pickles and a selection of meats and seafoods.",
         "[{'term': 'pickles', 'polarity': 'positive'}, {'term': 'selection of meats and seafoods', 'polarity': 'positive'}]",
         "[{'category': 'food', 'polarity': 'positive'}]"
        ],
        [
         "31",
         "2227",
         "My suggestion is to eat family style because you'll want to try the other dishes.",
         "[{'term': 'dishes', 'polarity': 'neutral'}, {'term': 'eat family style', 'polarity': 'positive'}]",
         "[{'category': 'food', 'polarity': 'neutral'}]"
        ],
        [
         "32",
         "3367",
         "Best of all is the warm vibe, the owner is super friendly and service is fast.",
         "[{'term': 'vibe', 'polarity': 'positive'}, {'term': 'owner', 'polarity': 'positive'}, {'term': 'service', 'polarity': 'positive'}]",
         "[{'category': 'service', 'polarity': 'positive'}, {'category': 'ambience', 'polarity': 'positive'}]"
        ],
        [
         "33",
         "1210",
         "This isn't a value joint.",
         "[{'term': 'noaspectterm', 'polarity': 'none'}]",
         "[{'category': 'price', 'polarity': 'negative'}]"
        ],
        [
         "34",
         "2191",
         "Faan's got a great concept but a little rough on the delivery.",
         "[{'term': 'delivery', 'polarity': 'negative'}]",
         "[{'category': 'anecdotes/miscellaneous', 'polarity': 'positive'}, {'category': 'service', 'polarity': 'negative'}]"
        ],
        [
         "35",
         "270",
         "From the incredible food, to the warm atmosphere, to the friendly service, this downtown neighborhood spot doesn't miss a beat.",
         "[{'term': 'food', 'polarity': 'positive'}, {'term': 'atmosphere', 'polarity': 'positive'}, {'term': 'service', 'polarity': 'positive'}]",
         "[{'category': 'food', 'polarity': 'positive'}, {'category': 'service', 'polarity': 'positive'}, {'category': 'ambience', 'polarity': 'positive'}]"
        ],
        [
         "36",
         "638",
         "Great food at REASONABLE prices, makes for an evening that can't be beat!",
         "[{'term': 'food', 'polarity': 'positive'}, {'term': 'prices', 'polarity': 'positive'}]",
         "[{'category': 'food', 'polarity': 'positive'}, {'category': 'price', 'polarity': 'positive'}]"
        ],
        [
         "37",
         "500",
         "Look foward to trying the Ruben upon returning.",
         "[{'term': 'noaspectterm', 'polarity': 'none'}]",
         "[{'category': 'anecdotes/miscellaneous', 'polarity': 'positive'}]"
        ],
        [
         "38",
         "1108",
         "The only other steakhouse that seems to hold a candle to Roth's is the Strip House.",
         "[{'term': 'noaspectterm', 'polarity': 'none'}]",
         "[{'category': 'anecdotes/miscellaneous', 'polarity': 'neutral'}]"
        ],
        [
         "39",
         "3294",
         "We usually go to the Chart House to celebrate a birthday or anniversary.",
         "[{'term': 'noaspectterm', 'polarity': 'none'}]",
         "[{'category': 'anecdotes/miscellaneous', 'polarity': 'neutral'}]"
        ],
        [
         "40",
         "388",
         "this little place has a cute interior decor and affordable city prices.",
         "[{'term': 'interior decor', 'polarity': 'positive'}, {'term': 'prices', 'polarity': 'positive'}]",
         "[{'category': 'ambience', 'polarity': 'positive'}, {'category': 'price', 'polarity': 'positive'}]"
        ],
        [
         "41",
         "3070",
         "You'll adore it.",
         "[{'term': 'noaspectterm', 'polarity': 'none'}]",
         "[{'category': 'anecdotes/miscellaneous', 'polarity': 'positive'}]"
        ],
        [
         "42",
         "3373",
         "Two words: Free wine.",
         "[{'term': 'wine', 'polarity': 'positive'}]",
         "[{'category': 'price', 'polarity': 'positive'}]"
        ],
        [
         "43",
         "425",
         "The price is reasonable although the service is poor.",
         "[{'term': 'price', 'polarity': 'positive'}, {'term': 'service', 'polarity': 'negative'}]",
         "[{'category': 'service', 'polarity': 'negative'}, {'category': 'price', 'polarity': 'positive'}]"
        ],
        [
         "44",
         "3192",
         "The quantity is also very good, you will come out satisfied.",
         "[{'term': 'quantity', 'polarity': 'positive'}]",
         "[{'category': 'food', 'polarity': 'positive'}]"
        ],
        [
         "45",
         "1098",
         "I have been to Roth's twice and both times were very disappointing.",
         "[{'term': 'noaspectterm', 'polarity': 'none'}]",
         "[{'category': 'anecdotes/miscellaneous', 'polarity': 'negative'}]"
        ],
        [
         "46",
         "2173",
         "Worth visiting the 1st Ave spot because it is the original store.",
         "[{'term': 'noaspectterm', 'polarity': 'none'}]",
         "[{'category': 'anecdotes/miscellaneous', 'polarity': 'positive'}]"
        ],
        [
         "47",
         "391",
         "I stumbled upon this second floor walk-up two Fridays ago when I was with two friends in town from L.A. Being serious sushi lovers, we sat at the sushi bar to be closer to the action.",
         "[{'term': 'sushi', 'polarity': 'neutral'}, {'term': 'sushi bar', 'polarity': 'neutral'}]",
         "[{'category': 'anecdotes/miscellaneous', 'polarity': 'neutral'}]"
        ],
        [
         "48",
         "263",
         "Raga's is a romantic, cozy restaurant.",
         "[{'term': 'noaspectterm', 'polarity': 'none'}]",
         "[{'category': 'ambience', 'polarity': 'positive'}]"
        ],
        [
         "49",
         "2384",
         "The fried rice is amazing here.",
         "[{'term': 'fried rice', 'polarity': 'positive'}]",
         "[{'category': 'food', 'polarity': 'positive'}]"
        ]
       ],
       "shape": {
        "columns": 4,
        "rows": 3041
       }
      },
      "text/html": [
       "<div>\n",
       "<style scoped>\n",
       "    .dataframe tbody tr th:only-of-type {\n",
       "        vertical-align: middle;\n",
       "    }\n",
       "\n",
       "    .dataframe tbody tr th {\n",
       "        vertical-align: top;\n",
       "    }\n",
       "\n",
       "    .dataframe thead th {\n",
       "        text-align: right;\n",
       "    }\n",
       "</style>\n",
       "<table border=\"1\" class=\"dataframe\">\n",
       "  <thead>\n",
       "    <tr style=\"text-align: right;\">\n",
       "      <th></th>\n",
       "      <th>sentenceId</th>\n",
       "      <th>raw_text</th>\n",
       "      <th>aspectTerms</th>\n",
       "      <th>aspectCategories</th>\n",
       "    </tr>\n",
       "  </thead>\n",
       "  <tbody>\n",
       "    <tr>\n",
       "      <th>0</th>\n",
       "      <td>3121</td>\n",
       "      <td>But the staff was so horrible to us.</td>\n",
       "      <td>[{'term': 'staff', 'polarity': 'negative'}]</td>\n",
       "      <td>[{'category': 'service', 'polarity': 'negative'}]</td>\n",
       "    </tr>\n",
       "    <tr>\n",
       "      <th>1</th>\n",
       "      <td>2777</td>\n",
       "      <td>To be completely fair, the only redeeming fact...</td>\n",
       "      <td>[{'term': 'food', 'polarity': 'positive'}]</td>\n",
       "      <td>[{'category': 'food', 'polarity': 'positive'},...</td>\n",
       "    </tr>\n",
       "    <tr>\n",
       "      <th>2</th>\n",
       "      <td>1634</td>\n",
       "      <td>The food is uniformly exceptional, with a very...</td>\n",
       "      <td>[{'term': 'food', 'polarity': 'positive'}, {'t...</td>\n",
       "      <td>[{'category': 'food', 'polarity': 'positive'}]</td>\n",
       "    </tr>\n",
       "    <tr>\n",
       "      <th>3</th>\n",
       "      <td>2534</td>\n",
       "      <td>Where Gabriela personaly greets you and recomm...</td>\n",
       "      <td>[{'term': 'noaspectterm', 'polarity': 'none'}]</td>\n",
       "      <td>[{'category': 'service', 'polarity': 'positive'}]</td>\n",
       "    </tr>\n",
       "    <tr>\n",
       "      <th>4</th>\n",
       "      <td>583</td>\n",
       "      <td>For those that go once and don't enjoy it, all...</td>\n",
       "      <td>[{'term': 'noaspectterm', 'polarity': 'none'}]</td>\n",
       "      <td>[{'category': 'anecdotes/miscellaneous', 'pola...</td>\n",
       "    </tr>\n",
       "    <tr>\n",
       "      <th>...</th>\n",
       "      <td>...</td>\n",
       "      <td>...</td>\n",
       "      <td>...</td>\n",
       "      <td>...</td>\n",
       "    </tr>\n",
       "    <tr>\n",
       "      <th>3036</th>\n",
       "      <td>1063</td>\n",
       "      <td>But that is highly forgivable.</td>\n",
       "      <td>[{'term': 'noaspectterm', 'polarity': 'none'}]</td>\n",
       "      <td>[{'category': 'anecdotes/miscellaneous', 'pola...</td>\n",
       "    </tr>\n",
       "    <tr>\n",
       "      <th>3037</th>\n",
       "      <td>777</td>\n",
       "      <td>From the appetizers we ate, the dim sum and ot...</td>\n",
       "      <td>[{'term': 'appetizers', 'polarity': 'positive'...</td>\n",
       "      <td>[{'category': 'food', 'polarity': 'positive'}]</td>\n",
       "    </tr>\n",
       "    <tr>\n",
       "      <th>3038</th>\n",
       "      <td>875</td>\n",
       "      <td>When we arrived at 6:00 PM, the restaurant was...</td>\n",
       "      <td>[{'term': 'noaspectterm', 'polarity': 'none'}]</td>\n",
       "      <td>[{'category': 'anecdotes/miscellaneous', 'pola...</td>\n",
       "    </tr>\n",
       "    <tr>\n",
       "      <th>3039</th>\n",
       "      <td>671</td>\n",
       "      <td>Each table has a pot of boiling water sunken i...</td>\n",
       "      <td>[{'term': 'table', 'polarity': 'neutral'}, {'t...</td>\n",
       "      <td>[{'category': 'food', 'polarity': 'neutral'}]</td>\n",
       "    </tr>\n",
       "    <tr>\n",
       "      <th>3040</th>\n",
       "      <td>617</td>\n",
       "      <td>I am going to the mid town location next.</td>\n",
       "      <td>[{'term': 'noaspectterm', 'polarity': 'none'}]</td>\n",
       "      <td>[{'category': 'anecdotes/miscellaneous', 'pola...</td>\n",
       "    </tr>\n",
       "  </tbody>\n",
       "</table>\n",
       "<p>3041 rows × 4 columns</p>\n",
       "</div>"
      ],
      "text/plain": [
       "      sentenceId                                           raw_text  \\\n",
       "0           3121               But the staff was so horrible to us.   \n",
       "1           2777  To be completely fair, the only redeeming fact...   \n",
       "2           1634  The food is uniformly exceptional, with a very...   \n",
       "3           2534  Where Gabriela personaly greets you and recomm...   \n",
       "4            583  For those that go once and don't enjoy it, all...   \n",
       "...          ...                                                ...   \n",
       "3036        1063                     But that is highly forgivable.   \n",
       "3037         777  From the appetizers we ate, the dim sum and ot...   \n",
       "3038         875  When we arrived at 6:00 PM, the restaurant was...   \n",
       "3039         671  Each table has a pot of boiling water sunken i...   \n",
       "3040         617          I am going to the mid town location next.   \n",
       "\n",
       "                                            aspectTerms  \\\n",
       "0           [{'term': 'staff', 'polarity': 'negative'}]   \n",
       "1            [{'term': 'food', 'polarity': 'positive'}]   \n",
       "2     [{'term': 'food', 'polarity': 'positive'}, {'t...   \n",
       "3        [{'term': 'noaspectterm', 'polarity': 'none'}]   \n",
       "4        [{'term': 'noaspectterm', 'polarity': 'none'}]   \n",
       "...                                                 ...   \n",
       "3036     [{'term': 'noaspectterm', 'polarity': 'none'}]   \n",
       "3037  [{'term': 'appetizers', 'polarity': 'positive'...   \n",
       "3038     [{'term': 'noaspectterm', 'polarity': 'none'}]   \n",
       "3039  [{'term': 'table', 'polarity': 'neutral'}, {'t...   \n",
       "3040     [{'term': 'noaspectterm', 'polarity': 'none'}]   \n",
       "\n",
       "                                       aspectCategories  \n",
       "0     [{'category': 'service', 'polarity': 'negative'}]  \n",
       "1     [{'category': 'food', 'polarity': 'positive'},...  \n",
       "2        [{'category': 'food', 'polarity': 'positive'}]  \n",
       "3     [{'category': 'service', 'polarity': 'positive'}]  \n",
       "4     [{'category': 'anecdotes/miscellaneous', 'pola...  \n",
       "...                                                 ...  \n",
       "3036  [{'category': 'anecdotes/miscellaneous', 'pola...  \n",
       "3037     [{'category': 'food', 'polarity': 'positive'}]  \n",
       "3038  [{'category': 'anecdotes/miscellaneous', 'pola...  \n",
       "3039      [{'category': 'food', 'polarity': 'neutral'}]  \n",
       "3040  [{'category': 'anecdotes/miscellaneous', 'pola...  \n",
       "\n",
       "[3041 rows x 4 columns]"
      ]
     },
     "execution_count": 21,
     "metadata": {},
     "output_type": "execute_result"
    }
   ],
   "source": [
    "id_tr_df"
   ]
  },
  {
   "cell_type": "code",
   "execution_count": 10,
   "metadata": {
    "id": "k4v8QMMT4B7t"
   },
   "outputs": [
    {
     "name": "stderr",
     "output_type": "stream",
     "text": [
      "Map: 100%|██████████| 3041/3041 [00:00<00:00, 4141.67 examples/s]\n",
      "Map: 100%|██████████| 800/800 [00:00<00:00, 4651.54 examples/s]\n"
     ]
    }
   ],
   "source": [
    "# Create T5 utils object\n",
    "t5_exp = T5Generator(model_checkpoint)\n",
    "\n",
    "# Tokenize Dataset\n",
    "id_ds, id_tokenized_ds, ood_ds, ood_tokenized_ds = loader.set_data_for_training_semeval(t5_exp.tokenize_function_inputs)\n",
    "\n",
    "# Training arguments\n",
    "training_args = {\n",
    "    'output_dir':model_out_path,\n",
    "    'eval_strategy':\"epoch\",\n",
    "    'learning_rate':5e-5,\n",
    "    'lr_scheduler_type':'cosine',\n",
    "    'per_device_train_batch_size':8,\n",
    "    'per_device_eval_batch_size':16,\n",
    "    'num_train_epochs':4,\n",
    "    'weight_decay':0.01,\n",
    "    'warmup_ratio':0.1,\n",
    "    'save_strategy':'no',\n",
    "    'load_best_model_at_end':False,\n",
    "    'push_to_hub':False,\n",
    "    'eval_accumulation_steps':1,\n",
    "    'predict_with_generate':True,\n",
    "    'use_mps_device':use_mps\n",
    "}"
   ]
  },
  {
   "cell_type": "code",
   "execution_count": 11,
   "metadata": {
    "id": "tZr7BAy6eJOA"
   },
   "outputs": [
    {
     "data": {
      "text/plain": [
       "DatasetDict({\n",
       "    train: Dataset({\n",
       "        features: ['sentenceId', 'raw_text', 'aspectTerms', 'aspectCategories', 'labels', 'text', '__index_level_0__', 'input_ids', 'attention_mask'],\n",
       "        num_rows: 3041\n",
       "    })\n",
       "    test: Dataset({\n",
       "        features: ['sentenceId', 'raw_text', 'aspectTerms', 'aspectCategories', 'labels', 'text', 'input_ids', 'attention_mask'],\n",
       "        num_rows: 800\n",
       "    })\n",
       "})"
      ]
     },
     "execution_count": 11,
     "metadata": {},
     "output_type": "execute_result"
    }
   ],
   "source": [
    "id_tokenized_ds"
   ]
  },
  {
   "cell_type": "markdown",
   "metadata": {},
   "source": [
    "### It'll give us an error if we don't have a validation set (when we try to train). Let's create one now."
   ]
  },
  {
   "cell_type": "code",
   "execution_count": 12,
   "metadata": {},
   "outputs": [
    {
     "data": {
      "text/plain": [
       "DatasetDict({\n",
       "    train: Dataset({\n",
       "        features: ['sentenceId', 'raw_text', 'aspectTerms', 'aspectCategories', 'labels', 'text', 'input_ids', 'attention_mask'],\n",
       "        num_rows: 400\n",
       "    })\n",
       "    test: Dataset({\n",
       "        features: ['sentenceId', 'raw_text', 'aspectTerms', 'aspectCategories', 'labels', 'text', 'input_ids', 'attention_mask'],\n",
       "        num_rows: 400\n",
       "    })\n",
       "})"
      ]
     },
     "execution_count": 12,
     "metadata": {},
     "output_type": "execute_result"
    }
   ],
   "source": [
    "# Split the test dataset in half\n",
    "train_test_split = id_tokenized_ds['test'].train_test_split(test_size=0.5)\n",
    "train_test_split"
   ]
  },
  {
   "cell_type": "code",
   "execution_count": 13,
   "metadata": {},
   "outputs": [
    {
     "data": {
      "text/plain": [
       "DatasetDict({\n",
       "    train: Dataset({\n",
       "        features: ['sentenceId', 'raw_text', 'aspectTerms', 'aspectCategories', 'labels', 'text', '__index_level_0__', 'input_ids', 'attention_mask'],\n",
       "        num_rows: 3041\n",
       "    })\n",
       "    test: Dataset({\n",
       "        features: ['sentenceId', 'raw_text', 'aspectTerms', 'aspectCategories', 'labels', 'text', 'input_ids', 'attention_mask'],\n",
       "        num_rows: 400\n",
       "    })\n",
       "    validation: Dataset({\n",
       "        features: ['sentenceId', 'raw_text', 'aspectTerms', 'aspectCategories', 'labels', 'text', 'input_ids', 'attention_mask'],\n",
       "        num_rows: 400\n",
       "    })\n",
       "})"
      ]
     },
     "execution_count": 13,
     "metadata": {},
     "output_type": "execute_result"
    }
   ],
   "source": [
    "# Add the \"new\" 'train' and 'test' splits to the original DatasetDict with their new names\n",
    "id_tokenized_ds['test'] = train_test_split['train']\n",
    "id_tokenized_ds['validation'] = train_test_split['test']  # Use 'test' as the validation set\n",
    "id_tokenized_ds"
   ]
  },
  {
   "cell_type": "markdown",
   "metadata": {},
   "source": [
    "### Not mentioned in the video, but run the below cell as well"
   ]
  },
  {
   "cell_type": "code",
   "execution_count": 14,
   "metadata": {},
   "outputs": [
    {
     "name": "stdout",
     "output_type": "stream",
     "text": [
      "Requirement already satisfied: pip in c:\\users\\jacop\\desktop\\lavori\\consigl_ia_mi-\\.conda\\lib\\site-packages (25.2)\n",
      "Requirement already satisfied: accelerate in c:\\users\\jacop\\desktop\\lavori\\consigl_ia_mi-\\.conda\\lib\\site-packages (1.10.1)\n",
      "Requirement already satisfied: numpy<3.0.0,>=1.17 in c:\\users\\jacop\\desktop\\lavori\\consigl_ia_mi-\\.conda\\lib\\site-packages (from accelerate) (2.3.1)\n",
      "Requirement already satisfied: packaging>=20.0 in c:\\users\\jacop\\desktop\\lavori\\consigl_ia_mi-\\.conda\\lib\\site-packages (from accelerate) (24.2)\n",
      "Requirement already satisfied: psutil in c:\\users\\jacop\\desktop\\lavori\\consigl_ia_mi-\\.conda\\lib\\site-packages (from accelerate) (7.0.0)\n",
      "Requirement already satisfied: pyyaml in c:\\users\\jacop\\desktop\\lavori\\consigl_ia_mi-\\.conda\\lib\\site-packages (from accelerate) (6.0.2)\n",
      "Requirement already satisfied: torch>=2.0.0 in c:\\users\\jacop\\desktop\\lavori\\consigl_ia_mi-\\.conda\\lib\\site-packages (from accelerate) (2.6.0+cu118)\n",
      "Requirement already satisfied: huggingface_hub>=0.21.0 in c:\\users\\jacop\\desktop\\lavori\\consigl_ia_mi-\\.conda\\lib\\site-packages (from accelerate) (0.34.3)\n",
      "Requirement already satisfied: safetensors>=0.4.3 in c:\\users\\jacop\\desktop\\lavori\\consigl_ia_mi-\\.conda\\lib\\site-packages (from accelerate) (0.5.3)\n",
      "Requirement already satisfied: filelock in c:\\users\\jacop\\desktop\\lavori\\consigl_ia_mi-\\.conda\\lib\\site-packages (from huggingface_hub>=0.21.0->accelerate) (3.18.0)\n",
      "Requirement already satisfied: fsspec>=2023.5.0 in c:\\users\\jacop\\desktop\\lavori\\consigl_ia_mi-\\.conda\\lib\\site-packages (from huggingface_hub>=0.21.0->accelerate) (2025.3.0)\n",
      "Requirement already satisfied: requests in c:\\users\\jacop\\desktop\\lavori\\consigl_ia_mi-\\.conda\\lib\\site-packages (from huggingface_hub>=0.21.0->accelerate) (2.32.4)\n",
      "Requirement already satisfied: tqdm>=4.42.1 in c:\\users\\jacop\\desktop\\lavori\\consigl_ia_mi-\\.conda\\lib\\site-packages (from huggingface_hub>=0.21.0->accelerate) (4.67.1)\n",
      "Requirement already satisfied: typing-extensions>=3.7.4.3 in c:\\users\\jacop\\desktop\\lavori\\consigl_ia_mi-\\.conda\\lib\\site-packages (from huggingface_hub>=0.21.0->accelerate) (4.14.1)\n",
      "Requirement already satisfied: networkx in c:\\users\\jacop\\desktop\\lavori\\consigl_ia_mi-\\.conda\\lib\\site-packages (from torch>=2.0.0->accelerate) (3.3)\n",
      "Requirement already satisfied: jinja2 in c:\\users\\jacop\\desktop\\lavori\\consigl_ia_mi-\\.conda\\lib\\site-packages (from torch>=2.0.0->accelerate) (3.1.4)\n",
      "Requirement already satisfied: sympy==1.13.1 in c:\\users\\jacop\\desktop\\lavori\\consigl_ia_mi-\\.conda\\lib\\site-packages (from torch>=2.0.0->accelerate) (1.13.1)\n",
      "Requirement already satisfied: mpmath<1.4,>=1.1.0 in c:\\users\\jacop\\desktop\\lavori\\consigl_ia_mi-\\.conda\\lib\\site-packages (from sympy==1.13.1->torch>=2.0.0->accelerate) (1.3.0)\n",
      "Requirement already satisfied: colorama in c:\\users\\jacop\\desktop\\lavori\\consigl_ia_mi-\\.conda\\lib\\site-packages (from tqdm>=4.42.1->huggingface_hub>=0.21.0->accelerate) (0.4.6)\n",
      "Requirement already satisfied: MarkupSafe>=2.0 in c:\\users\\jacop\\desktop\\lavori\\consigl_ia_mi-\\.conda\\lib\\site-packages (from jinja2->torch>=2.0.0->accelerate) (2.1.5)\n",
      "Requirement already satisfied: charset_normalizer<4,>=2 in c:\\users\\jacop\\desktop\\lavori\\consigl_ia_mi-\\.conda\\lib\\site-packages (from requests->huggingface_hub>=0.21.0->accelerate) (3.4.2)\n",
      "Requirement already satisfied: idna<4,>=2.5 in c:\\users\\jacop\\desktop\\lavori\\consigl_ia_mi-\\.conda\\lib\\site-packages (from requests->huggingface_hub>=0.21.0->accelerate) (3.10)\n",
      "Requirement already satisfied: urllib3<3,>=1.21.1 in c:\\users\\jacop\\desktop\\lavori\\consigl_ia_mi-\\.conda\\lib\\site-packages (from requests->huggingface_hub>=0.21.0->accelerate) (2.5.0)\n",
      "Requirement already satisfied: certifi>=2017.4.17 in c:\\users\\jacop\\desktop\\lavori\\consigl_ia_mi-\\.conda\\lib\\site-packages (from requests->huggingface_hub>=0.21.0->accelerate) (2025.7.14)\n",
      "Requirement already satisfied: transformers in c:\\users\\jacop\\desktop\\lavori\\consigl_ia_mi-\\.conda\\lib\\site-packages (4.56.1)\n",
      "Requirement already satisfied: filelock in c:\\users\\jacop\\desktop\\lavori\\consigl_ia_mi-\\.conda\\lib\\site-packages (from transformers) (3.18.0)\n",
      "Requirement already satisfied: huggingface-hub<1.0,>=0.34.0 in c:\\users\\jacop\\desktop\\lavori\\consigl_ia_mi-\\.conda\\lib\\site-packages (from transformers) (0.34.3)\n",
      "Requirement already satisfied: numpy>=1.17 in c:\\users\\jacop\\desktop\\lavori\\consigl_ia_mi-\\.conda\\lib\\site-packages (from transformers) (2.3.1)\n",
      "Requirement already satisfied: packaging>=20.0 in c:\\users\\jacop\\desktop\\lavori\\consigl_ia_mi-\\.conda\\lib\\site-packages (from transformers) (24.2)\n",
      "Requirement already satisfied: pyyaml>=5.1 in c:\\users\\jacop\\desktop\\lavori\\consigl_ia_mi-\\.conda\\lib\\site-packages (from transformers) (6.0.2)\n",
      "Requirement already satisfied: regex!=2019.12.17 in c:\\users\\jacop\\desktop\\lavori\\consigl_ia_mi-\\.conda\\lib\\site-packages (from transformers) (2025.7.34)\n",
      "Requirement already satisfied: requests in c:\\users\\jacop\\desktop\\lavori\\consigl_ia_mi-\\.conda\\lib\\site-packages (from transformers) (2.32.4)\n",
      "Requirement already satisfied: tokenizers<=0.23.0,>=0.22.0 in c:\\users\\jacop\\desktop\\lavori\\consigl_ia_mi-\\.conda\\lib\\site-packages (from transformers) (0.22.0)\n",
      "Requirement already satisfied: safetensors>=0.4.3 in c:\\users\\jacop\\desktop\\lavori\\consigl_ia_mi-\\.conda\\lib\\site-packages (from transformers) (0.5.3)\n",
      "Requirement already satisfied: tqdm>=4.27 in c:\\users\\jacop\\desktop\\lavori\\consigl_ia_mi-\\.conda\\lib\\site-packages (from transformers) (4.67.1)\n",
      "Requirement already satisfied: fsspec>=2023.5.0 in c:\\users\\jacop\\desktop\\lavori\\consigl_ia_mi-\\.conda\\lib\\site-packages (from huggingface-hub<1.0,>=0.34.0->transformers) (2025.3.0)\n",
      "Requirement already satisfied: typing-extensions>=3.7.4.3 in c:\\users\\jacop\\desktop\\lavori\\consigl_ia_mi-\\.conda\\lib\\site-packages (from huggingface-hub<1.0,>=0.34.0->transformers) (4.14.1)\n",
      "Requirement already satisfied: colorama in c:\\users\\jacop\\desktop\\lavori\\consigl_ia_mi-\\.conda\\lib\\site-packages (from tqdm>=4.27->transformers) (0.4.6)\n",
      "Requirement already satisfied: charset_normalizer<4,>=2 in c:\\users\\jacop\\desktop\\lavori\\consigl_ia_mi-\\.conda\\lib\\site-packages (from requests->transformers) (3.4.2)\n",
      "Requirement already satisfied: idna<4,>=2.5 in c:\\users\\jacop\\desktop\\lavori\\consigl_ia_mi-\\.conda\\lib\\site-packages (from requests->transformers) (3.10)\n",
      "Requirement already satisfied: urllib3<3,>=1.21.1 in c:\\users\\jacop\\desktop\\lavori\\consigl_ia_mi-\\.conda\\lib\\site-packages (from requests->transformers) (2.5.0)\n",
      "Requirement already satisfied: certifi>=2017.4.17 in c:\\users\\jacop\\desktop\\lavori\\consigl_ia_mi-\\.conda\\lib\\site-packages (from requests->transformers) (2025.7.14)\n"
     ]
    }
   ],
   "source": [
    "!python -m pip install --upgrade pip\n",
    "!python -m pip install -U accelerate\n",
    "!python -m pip install -U transformers"
   ]
  },
  {
   "cell_type": "code",
   "execution_count": 43,
   "metadata": {},
   "outputs": [
    {
     "name": "stdout",
     "output_type": "stream",
     "text": [
      "transformers: 4.55.0\n",
      "accelerate: 1.10.1\n"
     ]
    }
   ],
   "source": [
    "import transformers, accelerate\n",
    "print(\"transformers:\", transformers.__version__)\n",
    "print(\"accelerate:\", accelerate.__version__)"
   ]
  },
  {
   "cell_type": "code",
   "execution_count": null,
   "metadata": {},
   "outputs": [],
   "source": []
  },
  {
   "cell_type": "code",
   "execution_count": 15,
   "metadata": {},
   "outputs": [
    {
     "name": "stdout",
     "output_type": "stream",
     "text": [
      "Trainer device: cuda:0\n",
      "\n",
      "Model training started ....\n"
     ]
    },
    {
     "data": {
      "text/html": [
       "\n",
       "    <div>\n",
       "      \n",
       "      <progress value='4' max='1524' style='width:300px; height:20px; vertical-align: middle;'></progress>\n",
       "      [   4/1524 00:05 < 1:08:17, 0.37 it/s, Epoch 0.01/4]\n",
       "    </div>\n",
       "    <table border=\"1\" class=\"dataframe\">\n",
       "  <thead>\n",
       " <tr style=\"text-align: left;\">\n",
       "      <th>Epoch</th>\n",
       "      <th>Training Loss</th>\n",
       "      <th>Validation Loss</th>\n",
       "    </tr>\n",
       "  </thead>\n",
       "  <tbody>\n",
       "  </tbody>\n",
       "</table><p>"
      ],
      "text/plain": [
       "<IPython.core.display.HTML object>"
      ]
     },
     "metadata": {},
     "output_type": "display_data"
    },
    {
     "ename": "KeyboardInterrupt",
     "evalue": "",
     "output_type": "error",
     "traceback": [
      "\u001b[31m---------------------------------------------------------------------------\u001b[39m",
      "\u001b[31mKeyboardInterrupt\u001b[39m                         Traceback (most recent call last)",
      "\u001b[36mCell\u001b[39m\u001b[36m \u001b[39m\u001b[32mIn[15]\u001b[39m\u001b[32m, line 2\u001b[39m\n\u001b[32m      1\u001b[39m \u001b[38;5;66;03m# Train model\u001b[39;00m\n\u001b[32m----> \u001b[39m\u001b[32m2\u001b[39m model_trainer = \u001b[43mt5_exp\u001b[49m\u001b[43m.\u001b[49m\u001b[43mtrain\u001b[49m\u001b[43m(\u001b[49m\u001b[43mid_tokenized_ds\u001b[49m\u001b[43m,\u001b[49m\u001b[43m \u001b[49m\u001b[43m*\u001b[49m\u001b[43m*\u001b[49m\u001b[43mtraining_args\u001b[49m\u001b[43m)\u001b[49m\n",
      "\u001b[36mFile \u001b[39m\u001b[32m~\\Desktop\\Lavori\\InstructABSA_Fine_Tuning\\InstructABSA\\utils.py:52\u001b[39m, in \u001b[36mT5Generator.train\u001b[39m\u001b[34m(self, tokenized_datasets, **kwargs)\u001b[39m\n\u001b[32m     50\u001b[39m torch.cuda.empty_cache()\n\u001b[32m     51\u001b[39m \u001b[38;5;28mprint\u001b[39m(\u001b[33m'\u001b[39m\u001b[38;5;130;01m\\n\u001b[39;00m\u001b[33mModel training started ....\u001b[39m\u001b[33m'\u001b[39m)\n\u001b[32m---> \u001b[39m\u001b[32m52\u001b[39m \u001b[43mtrainer\u001b[49m\u001b[43m.\u001b[49m\u001b[43mtrain\u001b[49m\u001b[43m(\u001b[49m\u001b[43m)\u001b[49m\n\u001b[32m     54\u001b[39m \u001b[38;5;66;03m# Save best model\u001b[39;00m\n\u001b[32m     55\u001b[39m trainer.save_model()\n",
      "\u001b[36mFile \u001b[39m\u001b[32mc:\\Users\\jacop\\Desktop\\Lavori\\Consigl_IA_mi-\\.conda\\Lib\\site-packages\\transformers\\trainer.py:2328\u001b[39m, in \u001b[36mTrainer.train\u001b[39m\u001b[34m(self, resume_from_checkpoint, trial, ignore_keys_for_eval, **kwargs)\u001b[39m\n\u001b[32m   2326\u001b[39m         hf_hub_utils.enable_progress_bars()\n\u001b[32m   2327\u001b[39m \u001b[38;5;28;01melse\u001b[39;00m:\n\u001b[32m-> \u001b[39m\u001b[32m2328\u001b[39m     \u001b[38;5;28;01mreturn\u001b[39;00m \u001b[43minner_training_loop\u001b[49m\u001b[43m(\u001b[49m\n\u001b[32m   2329\u001b[39m \u001b[43m        \u001b[49m\u001b[43margs\u001b[49m\u001b[43m=\u001b[49m\u001b[43margs\u001b[49m\u001b[43m,\u001b[49m\n\u001b[32m   2330\u001b[39m \u001b[43m        \u001b[49m\u001b[43mresume_from_checkpoint\u001b[49m\u001b[43m=\u001b[49m\u001b[43mresume_from_checkpoint\u001b[49m\u001b[43m,\u001b[49m\n\u001b[32m   2331\u001b[39m \u001b[43m        \u001b[49m\u001b[43mtrial\u001b[49m\u001b[43m=\u001b[49m\u001b[43mtrial\u001b[49m\u001b[43m,\u001b[49m\n\u001b[32m   2332\u001b[39m \u001b[43m        \u001b[49m\u001b[43mignore_keys_for_eval\u001b[49m\u001b[43m=\u001b[49m\u001b[43mignore_keys_for_eval\u001b[49m\u001b[43m,\u001b[49m\n\u001b[32m   2333\u001b[39m \u001b[43m    \u001b[49m\u001b[43m)\u001b[49m\n",
      "\u001b[36mFile \u001b[39m\u001b[32mc:\\Users\\jacop\\Desktop\\Lavori\\Consigl_IA_mi-\\.conda\\Lib\\site-packages\\transformers\\trainer.py:2672\u001b[39m, in \u001b[36mTrainer._inner_training_loop\u001b[39m\u001b[34m(self, batch_size, args, resume_from_checkpoint, trial, ignore_keys_for_eval)\u001b[39m\n\u001b[32m   2665\u001b[39m context = (\n\u001b[32m   2666\u001b[39m     functools.partial(\u001b[38;5;28mself\u001b[39m.accelerator.no_sync, model=model)\n\u001b[32m   2667\u001b[39m     \u001b[38;5;28;01mif\u001b[39;00m i != \u001b[38;5;28mlen\u001b[39m(batch_samples) - \u001b[32m1\u001b[39m\n\u001b[32m   2668\u001b[39m     \u001b[38;5;129;01mand\u001b[39;00m \u001b[38;5;28mself\u001b[39m.accelerator.distributed_type != DistributedType.DEEPSPEED\n\u001b[32m   2669\u001b[39m     \u001b[38;5;28;01melse\u001b[39;00m contextlib.nullcontext\n\u001b[32m   2670\u001b[39m )\n\u001b[32m   2671\u001b[39m \u001b[38;5;28;01mwith\u001b[39;00m context():\n\u001b[32m-> \u001b[39m\u001b[32m2672\u001b[39m     tr_loss_step = \u001b[38;5;28;43mself\u001b[39;49m\u001b[43m.\u001b[49m\u001b[43mtraining_step\u001b[49m\u001b[43m(\u001b[49m\u001b[43mmodel\u001b[49m\u001b[43m,\u001b[49m\u001b[43m \u001b[49m\u001b[43minputs\u001b[49m\u001b[43m,\u001b[49m\u001b[43m \u001b[49m\u001b[43mnum_items_in_batch\u001b[49m\u001b[43m)\u001b[49m\n\u001b[32m   2674\u001b[39m \u001b[38;5;28;01mif\u001b[39;00m (\n\u001b[32m   2675\u001b[39m     args.logging_nan_inf_filter\n\u001b[32m   2676\u001b[39m     \u001b[38;5;129;01mand\u001b[39;00m \u001b[38;5;129;01mnot\u001b[39;00m is_torch_xla_available()\n\u001b[32m   2677\u001b[39m     \u001b[38;5;129;01mand\u001b[39;00m (torch.isnan(tr_loss_step) \u001b[38;5;129;01mor\u001b[39;00m torch.isinf(tr_loss_step))\n\u001b[32m   2678\u001b[39m ):\n\u001b[32m   2679\u001b[39m     \u001b[38;5;66;03m# if loss is nan or inf simply add the average of previous logged losses\u001b[39;00m\n\u001b[32m   2680\u001b[39m     tr_loss = tr_loss + tr_loss / (\u001b[32m1\u001b[39m + \u001b[38;5;28mself\u001b[39m.state.global_step - \u001b[38;5;28mself\u001b[39m._globalstep_last_logged)\n",
      "\u001b[36mFile \u001b[39m\u001b[32mc:\\Users\\jacop\\Desktop\\Lavori\\Consigl_IA_mi-\\.conda\\Lib\\site-packages\\transformers\\trainer.py:4060\u001b[39m, in \u001b[36mTrainer.training_step\u001b[39m\u001b[34m(***failed resolving arguments***)\u001b[39m\n\u001b[32m   4057\u001b[39m     \u001b[38;5;28;01mif\u001b[39;00m \u001b[38;5;28mself\u001b[39m.accelerator.distributed_type == DistributedType.DEEPSPEED:\n\u001b[32m   4058\u001b[39m         kwargs[\u001b[33m\"\u001b[39m\u001b[33mscale_wrt_gas\u001b[39m\u001b[33m\"\u001b[39m] = \u001b[38;5;28;01mFalse\u001b[39;00m\n\u001b[32m-> \u001b[39m\u001b[32m4060\u001b[39m     \u001b[38;5;28;43mself\u001b[39;49m\u001b[43m.\u001b[49m\u001b[43maccelerator\u001b[49m\u001b[43m.\u001b[49m\u001b[43mbackward\u001b[49m\u001b[43m(\u001b[49m\u001b[43mloss\u001b[49m\u001b[43m,\u001b[49m\u001b[43m \u001b[49m\u001b[43m*\u001b[49m\u001b[43m*\u001b[49m\u001b[43mkwargs\u001b[49m\u001b[43m)\u001b[49m\n\u001b[32m   4062\u001b[39m \u001b[38;5;28;01mreturn\u001b[39;00m loss.detach()\n",
      "\u001b[36mFile \u001b[39m\u001b[32mc:\\Users\\jacop\\Desktop\\Lavori\\Consigl_IA_mi-\\.conda\\Lib\\site-packages\\accelerate\\accelerator.py:2734\u001b[39m, in \u001b[36mAccelerator.backward\u001b[39m\u001b[34m(self, loss, **kwargs)\u001b[39m\n\u001b[32m   2732\u001b[39m     \u001b[38;5;28mself\u001b[39m.lomo_backward(loss, learning_rate)\n\u001b[32m   2733\u001b[39m \u001b[38;5;28;01melse\u001b[39;00m:\n\u001b[32m-> \u001b[39m\u001b[32m2734\u001b[39m     \u001b[43mloss\u001b[49m\u001b[43m.\u001b[49m\u001b[43mbackward\u001b[49m\u001b[43m(\u001b[49m\u001b[43m*\u001b[49m\u001b[43m*\u001b[49m\u001b[43mkwargs\u001b[49m\u001b[43m)\u001b[49m\n",
      "\u001b[36mFile \u001b[39m\u001b[32mc:\\Users\\jacop\\Desktop\\Lavori\\Consigl_IA_mi-\\.conda\\Lib\\site-packages\\torch\\_tensor.py:626\u001b[39m, in \u001b[36mTensor.backward\u001b[39m\u001b[34m(self, gradient, retain_graph, create_graph, inputs)\u001b[39m\n\u001b[32m    616\u001b[39m \u001b[38;5;28;01mif\u001b[39;00m has_torch_function_unary(\u001b[38;5;28mself\u001b[39m):\n\u001b[32m    617\u001b[39m     \u001b[38;5;28;01mreturn\u001b[39;00m handle_torch_function(\n\u001b[32m    618\u001b[39m         Tensor.backward,\n\u001b[32m    619\u001b[39m         (\u001b[38;5;28mself\u001b[39m,),\n\u001b[32m   (...)\u001b[39m\u001b[32m    624\u001b[39m         inputs=inputs,\n\u001b[32m    625\u001b[39m     )\n\u001b[32m--> \u001b[39m\u001b[32m626\u001b[39m \u001b[43mtorch\u001b[49m\u001b[43m.\u001b[49m\u001b[43mautograd\u001b[49m\u001b[43m.\u001b[49m\u001b[43mbackward\u001b[49m\u001b[43m(\u001b[49m\n\u001b[32m    627\u001b[39m \u001b[43m    \u001b[49m\u001b[38;5;28;43mself\u001b[39;49m\u001b[43m,\u001b[49m\u001b[43m \u001b[49m\u001b[43mgradient\u001b[49m\u001b[43m,\u001b[49m\u001b[43m \u001b[49m\u001b[43mretain_graph\u001b[49m\u001b[43m,\u001b[49m\u001b[43m \u001b[49m\u001b[43mcreate_graph\u001b[49m\u001b[43m,\u001b[49m\u001b[43m \u001b[49m\u001b[43minputs\u001b[49m\u001b[43m=\u001b[49m\u001b[43minputs\u001b[49m\n\u001b[32m    628\u001b[39m \u001b[43m\u001b[49m\u001b[43m)\u001b[49m\n",
      "\u001b[36mFile \u001b[39m\u001b[32mc:\\Users\\jacop\\Desktop\\Lavori\\Consigl_IA_mi-\\.conda\\Lib\\site-packages\\torch\\autograd\\__init__.py:347\u001b[39m, in \u001b[36mbackward\u001b[39m\u001b[34m(tensors, grad_tensors, retain_graph, create_graph, grad_variables, inputs)\u001b[39m\n\u001b[32m    342\u001b[39m     retain_graph = create_graph\n\u001b[32m    344\u001b[39m \u001b[38;5;66;03m# The reason we repeat the same comment below is that\u001b[39;00m\n\u001b[32m    345\u001b[39m \u001b[38;5;66;03m# some Python versions print out the first line of a multi-line function\u001b[39;00m\n\u001b[32m    346\u001b[39m \u001b[38;5;66;03m# calls in the traceback and some print out the last line\u001b[39;00m\n\u001b[32m--> \u001b[39m\u001b[32m347\u001b[39m \u001b[43m_engine_run_backward\u001b[49m\u001b[43m(\u001b[49m\n\u001b[32m    348\u001b[39m \u001b[43m    \u001b[49m\u001b[43mtensors\u001b[49m\u001b[43m,\u001b[49m\n\u001b[32m    349\u001b[39m \u001b[43m    \u001b[49m\u001b[43mgrad_tensors_\u001b[49m\u001b[43m,\u001b[49m\n\u001b[32m    350\u001b[39m \u001b[43m    \u001b[49m\u001b[43mretain_graph\u001b[49m\u001b[43m,\u001b[49m\n\u001b[32m    351\u001b[39m \u001b[43m    \u001b[49m\u001b[43mcreate_graph\u001b[49m\u001b[43m,\u001b[49m\n\u001b[32m    352\u001b[39m \u001b[43m    \u001b[49m\u001b[43minputs\u001b[49m\u001b[43m,\u001b[49m\n\u001b[32m    353\u001b[39m \u001b[43m    \u001b[49m\u001b[43mallow_unreachable\u001b[49m\u001b[43m=\u001b[49m\u001b[38;5;28;43;01mTrue\u001b[39;49;00m\u001b[43m,\u001b[49m\n\u001b[32m    354\u001b[39m \u001b[43m    \u001b[49m\u001b[43maccumulate_grad\u001b[49m\u001b[43m=\u001b[49m\u001b[38;5;28;43;01mTrue\u001b[39;49;00m\u001b[43m,\u001b[49m\n\u001b[32m    355\u001b[39m \u001b[43m\u001b[49m\u001b[43m)\u001b[49m\n",
      "\u001b[36mFile \u001b[39m\u001b[32mc:\\Users\\jacop\\Desktop\\Lavori\\Consigl_IA_mi-\\.conda\\Lib\\site-packages\\torch\\autograd\\graph.py:823\u001b[39m, in \u001b[36m_engine_run_backward\u001b[39m\u001b[34m(t_outputs, *args, **kwargs)\u001b[39m\n\u001b[32m    821\u001b[39m     unregister_hooks = _register_logging_hooks_on_whole_graph(t_outputs)\n\u001b[32m    822\u001b[39m \u001b[38;5;28;01mtry\u001b[39;00m:\n\u001b[32m--> \u001b[39m\u001b[32m823\u001b[39m     \u001b[38;5;28;01mreturn\u001b[39;00m \u001b[43mVariable\u001b[49m\u001b[43m.\u001b[49m\u001b[43m_execution_engine\u001b[49m\u001b[43m.\u001b[49m\u001b[43mrun_backward\u001b[49m\u001b[43m(\u001b[49m\u001b[43m  \u001b[49m\u001b[38;5;66;43;03m# Calls into the C++ engine to run the backward pass\u001b[39;49;00m\n\u001b[32m    824\u001b[39m \u001b[43m        \u001b[49m\u001b[43mt_outputs\u001b[49m\u001b[43m,\u001b[49m\u001b[43m \u001b[49m\u001b[43m*\u001b[49m\u001b[43margs\u001b[49m\u001b[43m,\u001b[49m\u001b[43m \u001b[49m\u001b[43m*\u001b[49m\u001b[43m*\u001b[49m\u001b[43mkwargs\u001b[49m\n\u001b[32m    825\u001b[39m \u001b[43m    \u001b[49m\u001b[43m)\u001b[49m  \u001b[38;5;66;03m# Calls into the C++ engine to run the backward pass\u001b[39;00m\n\u001b[32m    826\u001b[39m \u001b[38;5;28;01mfinally\u001b[39;00m:\n\u001b[32m    827\u001b[39m     \u001b[38;5;28;01mif\u001b[39;00m attach_logging_hooks:\n",
      "\u001b[31mKeyboardInterrupt\u001b[39m: "
     ]
    }
   ],
   "source": [
    "# Train model\n",
    "model_trainer = t5_exp.train(id_tokenized_ds, **training_args)"
   ]
  },
  {
   "cell_type": "markdown",
   "metadata": {
    "id": "7rqL4maz_Dlz"
   },
   "source": [
    "## Inference"
   ]
  },
  {
   "cell_type": "code",
   "execution_count": null,
   "metadata": {
    "id": "Cy6aOHv4_FUo"
   },
   "outputs": [],
   "source": [
    "# Load the data\n",
    "id_train_file_path = './Dataset/SemEval14/Train/Laptops_Train.csv'\n",
    "id_test_file_path = './Dataset/SemEval14/Test/Laptops_Test.csv'\n",
    "id_tr_df = pd.read_csv(id_train_file_path)\n",
    "id_te_df = pd.read_csv(id_test_file_path)\n",
    "\n",
    "# Get the input text into the required format using Instructions\n",
    "instruct_handler = InstructionsHandler()\n",
    "\n",
    "# Set instruction_set1 for InstructABSA-1 and instruction_set2 for InstructABSA-2\n",
    "instruct_handler.load_instruction_set2()  # same as above, change to instruction_set2\n",
    "\n",
    "# Set bos_instruct1 for lapt14 and bos_instruct2 for rest14. For other datasets, modify the insructions.py file.\n",
    "# Same as above. 'joint' changed to 'aspe' in the code below\n",
    "loader = DatasetLoader(id_tr_df, id_te_df)\n",
    "if loader.train_df_id is not None:\n",
    "    loader.train_df_id = loader.create_data_in_aspe_format(loader.train_df_id, 'term', 'polarity', 'raw_text', 'aspectTerms', instruct_handler.aspe['bos_instruct2'], instruct_handler.aspe['eos_instruct'])\n",
    "if loader.test_df_id is not None:\n",
    "    loader.test_df_id = loader.create_data_in_aspe_format(loader.test_df_id, 'term', 'polarity', 'raw_text', 'aspectTerms', instruct_handler.aspe['bos_instruct2'], instruct_handler.aspe['eos_instruct'])"
   ]
  },
  {
   "cell_type": "code",
   "execution_count": null,
   "metadata": {
    "id": "kbcnbLXtt9Am"
   },
   "outputs": [],
   "source": [
    "# Model inference - Loading from Checkpoint\n",
    "t5_exp = T5Generator(model_out_path)\n",
    "\n",
    "# Tokenize Datasets\n",
    "id_ds, id_tokenized_ds, ood_ds, ood_tokenzed_ds = loader.set_data_for_training_semeval(t5_exp.tokenize_function_inputs)\n",
    "\n",
    "# Get prediction labels - Training set   \n",
    "id_tr_pred_labels = t5_exp.get_labels(tokenized_dataset = id_tokenized_ds, sample_set = 'train', batch_size = 16)\n",
    "id_tr_labels = [i.strip() for i in id_ds['train']['labels']]\n",
    "\n",
    "# Get prediction labels - Testing set\n",
    "id_te_pred_labels = t5_exp.get_labels(tokenized_dataset = id_tokenized_ds, sample_set = 'test', batch_size = 16)\n",
    "id_te_labels = [i.strip() for i in id_ds['test']['labels']]"
   ]
  },
  {
   "cell_type": "code",
   "execution_count": null,
   "metadata": {
    "id": "pBCUT9jDt8-Q"
   },
   "outputs": [],
   "source": [
    "p, r, f1, _ = t5_exp.get_metrics(id_tr_labels, id_tr_pred_labels)\n",
    "print('Train Precision: ', p)\n",
    "print('Train Recall: ', r)\n",
    "print('Train F1: ', f1)\n",
    "\n",
    "p, r, f1, _ = t5_exp.get_metrics(id_te_labels, id_te_pred_labels)\n",
    "print('Test Precision: ', p)\n",
    "print('Test Recall: ', r)\n",
    "print('Test F1: ', f1)"
   ]
  }
 ],
 "metadata": {
  "accelerator": "GPU",
  "colab": {
   "include_colab_link": true,
   "provenance": [],
   "toc_visible": true
  },
  "gpuClass": "standard",
  "kernelspec": {
   "display_name": ".conda",
   "language": "python",
   "name": "python3"
  },
  "language_info": {
   "codemirror_mode": {
    "name": "ipython",
    "version": 3
   },
   "file_extension": ".py",
   "mimetype": "text/x-python",
   "name": "python",
   "nbconvert_exporter": "python",
   "pygments_lexer": "ipython3",
   "version": "3.11.13"
  }
 },
 "nbformat": 4,
 "nbformat_minor": 4
}
